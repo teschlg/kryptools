{
 "cells": [
  {
   "cell_type": "markdown",
   "id": "c9057db5-a6f9-488d-8a33-ab6046336a7c",
   "metadata": {},
   "source": [
    "# Kryptools"
   ]
  },
  {
   "cell_type": "markdown",
   "id": "59146c0b-7743-4a30-a0c9-0aa686544f44",
   "metadata": {},
   "source": [
    "Warning: These tools are intended for experimenting with cryptographic algorithms. They are not intended for use in real applications."
   ]
  },
  {
   "cell_type": "markdown",
   "id": "cb7ef98f-faad-4ab5-ba5b-849edf604a62",
   "metadata": {},
   "source": [
    "## Zmod: Ring of integers modulo n"
   ]
  },
  {
   "cell_type": "markdown",
   "id": "83c3171a-a903-47b7-8322-4d1f86a0b34a",
   "metadata": {},
   "source": [
    "To define $\\mathbb{Z}_5$, the [ring of integers modulo the prime $5$](https://en.wikipedia.org/wiki/Multiplicative_group_of_integers_modulo_n) (in this case a [Galois field](https://en.wikipedia.org/wiki/Finite_field)), use"
   ]
  },
  {
   "cell_type": "code",
   "execution_count": 1,
   "id": "e1e6e7b4-7263-467e-898f-108d57464b29",
   "metadata": {},
   "outputs": [],
   "source": [
    "from kryptools import Zmod\n",
    "\n",
    "Z_5 = Zmod(5)"
   ]
  },
  {
   "cell_type": "markdown",
   "id": "f9f647d5-d690-4b4b-8c79-da1089dcd9e0",
   "metadata": {},
   "source": [
    "To declare $3$ as an element of $\\mathbb{Z}_5$ use"
   ]
  },
  {
   "cell_type": "code",
   "execution_count": 2,
   "id": "d2f6c287-d1e9-4ac8-aaae-021978585ecd",
   "metadata": {},
   "outputs": [
    {
     "data": {
      "text/plain": [
       "3"
      ]
     },
     "execution_count": 2,
     "metadata": {},
     "output_type": "execute_result"
    }
   ],
   "source": [
    "Z_5(3)"
   ]
  },
  {
   "cell_type": "markdown",
   "id": "4d852941-fa90-42a4-8dba-51850349d032",
   "metadata": {},
   "source": [
    "Basic arithmetic operations work as expected:"
   ]
  },
  {
   "cell_type": "code",
   "execution_count": 3,
   "id": "14f46d2c-9d6e-46de-8a82-c5d60a33da27",
   "metadata": {},
   "outputs": [
    {
     "data": {
      "text/plain": [
       "0"
      ]
     },
     "execution_count": 3,
     "metadata": {},
     "output_type": "execute_result"
    }
   ],
   "source": [
    "Z_5(3) + Z_5(2)"
   ]
  },
  {
   "cell_type": "code",
   "execution_count": 4,
   "id": "7fa8f53d-a8d0-4e48-adb3-e24c1483cfc4",
   "metadata": {},
   "outputs": [
    {
     "data": {
      "text/plain": [
       "2"
      ]
     },
     "execution_count": 4,
     "metadata": {},
     "output_type": "execute_result"
    }
   ],
   "source": [
    "Z_5(3) ** -1"
   ]
  },
  {
   "cell_type": "markdown",
   "id": "6fe53de4-584d-4e07-bb4e-40c46efb1611",
   "metadata": {},
   "source": [
    "To determine the multiplicative [order](https://en.wikipedia.org/wiki/Order_(group_theory)) of an element in the group $\\mathbb{Z}_n^*$ use:"
   ]
  },
  {
   "cell_type": "code",
   "execution_count": 5,
   "id": "965c56c3-681e-4a3a-be74-6deb5785cc2a",
   "metadata": {},
   "outputs": [
    {
     "data": {
      "text/plain": [
       "4"
      ]
     },
     "execution_count": 5,
     "metadata": {},
     "output_type": "execute_result"
    }
   ],
   "source": [
    "Z_5(3).order()"
   ]
  },
  {
   "cell_type": "markdown",
   "id": "2f87c0ac-378e-4afb-a818-0c4bed042b60",
   "metadata": {},
   "source": [
    "You can also check if an element is a [generator](https://en.wikipedia.org/wiki/Primitive_root_modulo_n) (a.k.a primitive root) of $\\mathbb{Z}_n^*$:"
   ]
  },
  {
   "cell_type": "code",
   "execution_count": 6,
   "id": "a7cd9201-4afc-46f5-95b7-226969ed649d",
   "metadata": {},
   "outputs": [
    {
     "data": {
      "text/plain": [
       "True"
      ]
     },
     "execution_count": 6,
     "metadata": {},
     "output_type": "execute_result"
    }
   ],
   "source": [
    "Z_5(3).is_generator()"
   ]
  },
  {
   "cell_type": "markdown",
   "id": "33e7f89c-ad07-4fe6-b772-7ea5fe3cdc80",
   "metadata": {},
   "source": [
    "You can get one generator or all generators"
   ]
  },
  {
   "cell_type": "code",
   "execution_count": 7,
   "id": "20ac1ca2-723c-4faf-a21b-4d8bcfeb280c",
   "metadata": {},
   "outputs": [
    {
     "data": {
      "text/plain": [
       "(2, [2, 3])"
      ]
     },
     "execution_count": 7,
     "metadata": {},
     "output_type": "execute_result"
    }
   ],
   "source": [
    "Z_5.generator(), list(Z_5.generators())"
   ]
  },
  {
   "cell_type": "markdown",
   "id": "dac7838b-7d57-4237-b43d-e7a0809fd865",
   "metadata": {},
   "source": [
    "as well as all elements of $\\mathbb{Z}_n^*$"
   ]
  },
  {
   "cell_type": "code",
   "execution_count": 8,
   "id": "062b1adc-4cc4-4837-915d-5c997f2bf45e",
   "metadata": {},
   "outputs": [
    {
     "data": {
      "text/plain": [
       "[1, 2, 3, 4]"
      ]
     },
     "execution_count": 8,
     "metadata": {},
     "output_type": "execute_result"
    }
   ],
   "source": [
    "list(Z_5.star())"
   ]
  },
  {
   "cell_type": "markdown",
   "id": "b83e149d-87b5-4bed-bc61-d332e37459b1",
   "metadata": {},
   "source": [
    "To test if $\\mathbb{Z}_n^*$ is cyclic use"
   ]
  },
  {
   "cell_type": "code",
   "execution_count": 9,
   "id": "7f845e31-f356-48cb-974c-d9dc0136b412",
   "metadata": {},
   "outputs": [
    {
     "data": {
      "text/plain": [
       "True"
      ]
     },
     "execution_count": 9,
     "metadata": {},
     "output_type": "execute_result"
    }
   ],
   "source": [
    "Z_5.is_cyclic()"
   ]
  },
  {
   "cell_type": "markdown",
   "id": "e70ad322-0579-4ac8-81c3-3e7d43d39918",
   "metadata": {},
   "source": [
    "For [Learning With Errors](https://en.wikipedia.org/wiki/Learning_with_errors) a symmetric representative is frequently required:"
   ]
  },
  {
   "cell_type": "code",
   "execution_count": 10,
   "id": "1edf6b6c-9f83-466d-831e-b225091a7bb4",
   "metadata": {},
   "outputs": [
    {
     "data": {
      "text/plain": [
       "[0, 1, 2, -2, -1]"
      ]
     },
     "execution_count": 10,
     "metadata": {},
     "output_type": "execute_result"
    }
   ],
   "source": [
    "[a.sharp() for a in Z_5]"
   ]
  },
  {
   "cell_type": "markdown",
   "id": "14a7ecbb-276d-432f-b662-212caba24e31",
   "metadata": {},
   "source": [
    "The absolute value will be the absolute value of the symmetric representative:"
   ]
  },
  {
   "cell_type": "code",
   "execution_count": 11,
   "id": "6c6ea167-2974-461a-a916-8a92c4c95ad6",
   "metadata": {},
   "outputs": [
    {
     "data": {
      "text/plain": [
       "[0, 1, 2, 2, 1]"
      ]
     },
     "execution_count": 11,
     "metadata": {},
     "output_type": "execute_result"
    }
   ],
   "source": [
    "[abs(a) for a in Z_5]"
   ]
  },
  {
   "cell_type": "markdown",
   "id": "05aa6a42-13fa-4a09-a584-22d758444fac",
   "metadata": {},
   "source": [
    "If you set the option `short` to `False` then $\\pmod{5}$ will be added:"
   ]
  },
  {
   "cell_type": "code",
   "execution_count": 12,
   "id": "85f1596e-3d47-4f48-a9c2-b3ae2d0c7a1c",
   "metadata": {},
   "outputs": [
    {
     "data": {
      "text/plain": [
       "1 (mod 5)"
      ]
     },
     "execution_count": 12,
     "metadata": {},
     "output_type": "execute_result"
    }
   ],
   "source": [
    "Z_5.short = False\n",
    "Z_5(6)"
   ]
  },
  {
   "cell_type": "markdown",
   "id": "3b6ab9a9-6651-40bc-a723-a6551e99c63a",
   "metadata": {},
   "source": [
    "## Galois field $\\mathrm{GF}(2^n)$"
   ]
  },
  {
   "cell_type": "markdown",
   "id": "d308c177-daee-426a-8c70-57641b46db79",
   "metadata": {},
   "source": [
    "There is also some support for playing with the [Galois field](https://en.wikipedia.org/wiki/Finite_field) $\\mathrm{GF}(2^n)$. Elements are specified by integers from $0$ to $2^n-1$, which are identified with polynomials $\\mathbb{Z}_2[x]_{m(x)}$ whose coefficients are the binary digits of the integer. Multiplication is polynomial multiplication modulo a given irreducible polynomial $m(x)$ (the modulus).\n",
    "If the modulus has the $n$'th bit set, the lowest bit corresponds to the constant coefficient (like in AES). Otherwise, the bit order is reversed (like for Ghash).\n",
    "The default polynomial is a [Conway polynomial](https://en.wikipedia.org/wiki/Conway_polynomial_(finite_fields)) from [Frank Lübeck’s list](https://www.math.rwth-aachen.de/~Frank.Luebeck/data/ConwayPol/index.html)."
   ]
  },
  {
   "cell_type": "markdown",
   "id": "c44b2353-818e-42c4-b1eb-c45ffbfe723f",
   "metadata": {},
   "source": [
    "To define the Galois field GF(2^8) for [AES](https://en.wikipedia.org/wiki/Rijndael_MixColumns) with polynomial $1 + x + x^3 + x^4 + x^8$ use"
   ]
  },
  {
   "cell_type": "code",
   "execution_count": 13,
   "id": "0682784c-f590-49c3-9a4b-eedc69953cb7",
   "metadata": {},
   "outputs": [],
   "source": [
    "from kryptools import GF2\n",
    "\n",
    "gf = GF2(8, modulus=0b100011011)  # x^8 + x^4 + x^3 + x + 1 = AES"
   ]
  },
  {
   "cell_type": "markdown",
   "id": "9f052296-ea3b-4aad-9905-3bea4e8f41d3",
   "metadata": {},
   "source": [
    "Note: If you do not specify the modulus, the corresponding Conway polynomial $1 + x^2 + x^3 + x^4 + x^8$ will be used."
   ]
  },
  {
   "cell_type": "markdown",
   "id": "5ebfd7a0-3296-45fe-a733-fd48f4b969aa",
   "metadata": {},
   "source": [
    "To declare $3$ as an element of our Galois field use (elements are displayed as hex numbers)"
   ]
  },
  {
   "cell_type": "code",
   "execution_count": 14,
   "id": "2253c5c2-8884-40eb-a639-25b193e04c79",
   "metadata": {},
   "outputs": [
    {
     "data": {
      "text/plain": [
       "03"
      ]
     },
     "execution_count": 14,
     "metadata": {},
     "output_type": "execute_result"
    }
   ],
   "source": [
    "gf(3)"
   ]
  },
  {
   "cell_type": "markdown",
   "id": "9b6cdb5b-2c46-494e-9b65-274767e03d90",
   "metadata": {},
   "source": [
    "The usual arithmetic operations are supported."
   ]
  },
  {
   "cell_type": "code",
   "execution_count": 15,
   "id": "413e9b0c-004c-452b-a779-35f035916b31",
   "metadata": {},
   "outputs": [
    {
     "data": {
      "text/plain": [
       "True"
      ]
     },
     "execution_count": 15,
     "metadata": {},
     "output_type": "execute_result"
    }
   ],
   "source": [
    "gf(2).sqrt()**2 == gf(2)"
   ]
  },
  {
   "cell_type": "code",
   "execution_count": 16,
   "id": "79fd9c2f-1676-4ef4-8632-bf335e88b8e9",
   "metadata": {},
   "outputs": [
    {
     "data": {
      "text/plain": [
       "15"
      ]
     },
     "execution_count": 16,
     "metadata": {},
     "output_type": "execute_result"
    }
   ],
   "source": [
    "gf(2) * gf(135)"
   ]
  },
  {
   "cell_type": "markdown",
   "id": "ce4e2e80-38b0-48dd-99ad-32fbb2312203",
   "metadata": {},
   "source": [
    "Elements from $\\mathrm{GF}(2^n)$ can be convertet to `int`, `bytes`, or to a polynomial (see the `Poly` class below):"
   ]
  },
  {
   "cell_type": "code",
   "execution_count": 17,
   "id": "184a5c32-0ce6-47a5-87b7-6f5478e18886",
   "metadata": {},
   "outputs": [
    {
     "data": {
      "text/latex": [
       "$x^{4} + x^{2} + 1$"
      ],
      "text/plain": [
       "x^4 + x^2 + 1"
      ]
     },
     "execution_count": 17,
     "metadata": {},
     "output_type": "execute_result"
    }
   ],
   "source": [
    "_.poly()"
   ]
  },
  {
   "cell_type": "markdown",
   "id": "4aca38c8-3a43-47bb-86e7-67dca1a86e2a",
   "metadata": {},
   "source": [
    "To compute the multiplicative order use:"
   ]
  },
  {
   "cell_type": "code",
   "execution_count": 18,
   "id": "de94b5e9-eb83-412c-8245-46f8f705c1a3",
   "metadata": {},
   "outputs": [
    {
     "data": {
      "text/plain": [
       "255"
      ]
     },
     "execution_count": 18,
     "metadata": {},
     "output_type": "execute_result"
    }
   ],
   "source": [
    "assert gf(3) ** gf(3).order() == gf(1)\n",
    "gf(3).order()"
   ]
  },
  {
   "cell_type": "markdown",
   "id": "a027ad19-3b29-4f24-9744-713e65e78dfa",
   "metadata": {},
   "source": [
    "For convenience, the AES Galois field is also available as `GF2_aes`. It has an additional method for applying the AES sbox (to get the inverse sbox, use the option `inv=True`):"
   ]
  },
  {
   "cell_type": "code",
   "execution_count": 19,
   "id": "6dfd72e4-3fe5-43c3-a9aa-61df75f7e6f4",
   "metadata": {},
   "outputs": [
    {
     "data": {
      "text/plain": [
       "63"
      ]
     },
     "execution_count": 19,
     "metadata": {},
     "output_type": "execute_result"
    }
   ],
   "source": [
    "from kryptools import GF2_aes\n",
    "\n",
    "GF2_aes(0).sbox()"
   ]
  },
  {
   "cell_type": "markdown",
   "id": "ee4f4390-7846-4fa0-b77a-bc1b33af8ac2",
   "metadata": {},
   "source": [
    "### Showcase: Ghash"
   ]
  },
  {
   "cell_type": "markdown",
   "id": "8dcc1f27-e264-4846-8eb4-d7c96a53dd51",
   "metadata": {},
   "source": [
    "For [Ghash](https://en.wikipedia.org/wiki/Galois/Counter_Mode) the polynomial is $1 + x + x^2 + x^7 + x^{128}$. You can explicitely define the corresponding Galois field using"
   ]
  },
  {
   "cell_type": "code",
   "execution_count": 20,
   "id": "cdff9c2d-b22e-479c-acd0-f36c5a943b5a",
   "metadata": {},
   "outputs": [],
   "source": [
    "gf = GF2(128, modulus=0b11100001 << 120)  # 1 + x + x^2 + x^7 (+ x^128) = Ghash"
   ]
  },
  {
   "cell_type": "markdown",
   "id": "b416ebf7-7f68-4dfd-9f63-2f56d9ba5447",
   "metadata": {},
   "source": [
    "For convenience, it is also avaiable as `GF2_ghash`:"
   ]
  },
  {
   "cell_type": "code",
   "execution_count": 21,
   "id": "78ed0971-22bf-40b0-aad2-27bde4825ca1",
   "metadata": {},
   "outputs": [
    {
     "data": {
      "text/plain": [
       "b'\\xcc\\x16\\x99\\x1d\\x8d`\\xadu\\xc9+\\xe1,\\x98\\x13j\\x17'"
      ]
     },
     "execution_count": 21,
     "metadata": {},
     "output_type": "execute_result"
    }
   ],
   "source": [
    "from kryptools import GF2_ghash\n",
    "\n",
    "\n",
    "def ghash(data: bytes, h: bytes) -> bytes:\n",
    "    \"Compute ghash of a bytestring `data` with a given key `h`.\"\n",
    "    # First pad data such that it is a multiple of the block length 16*8=128\n",
    "    pad = len(data) % 16\n",
    "    if pad > 0:\n",
    "        data += b\"\\x00\" * (16 - pad)\n",
    "    # Now compute ghash recursively\n",
    "    h = GF2_ghash(h)\n",
    "    g = GF2_ghash(0)\n",
    "    for i in range(len(data) // 16):\n",
    "        g = h * (g + GF2_ghash(data[i * 16 : (i + 1) * 16]))\n",
    "    return bytes(g)\n",
    "\n",
    "\n",
    "h = b\"7\\xa0\\x8e\\xd3\\x00\\x93\\xa13\\xb1\\xbbJ\\xe0\\xb8\\xf3`\\x1f\"  # 128 bit key\n",
    "text = b\"A boring message\"\n",
    "\n",
    "ghash(text, h)"
   ]
  },
  {
   "cell_type": "markdown",
   "id": "a6d87a55-5338-49d5-92cf-d273f248de58",
   "metadata": {},
   "source": [
    "## Primes"
   ]
  },
  {
   "cell_type": "markdown",
   "id": "acc2b166-3c90-4fc5-9f7f-a52c313353e7",
   "metadata": {},
   "source": [
    "A tuple of [primes](https://en.wikipedia.org/wiki/Prime_number) below a bound $B$ can be obtained using the [sieve of Eratosthenes](https://en.wikipedia.org/wiki/Sieve_of_Eratosthenes):"
   ]
  },
  {
   "cell_type": "code",
   "execution_count": 22,
   "id": "58cf98f7-b507-4b4d-9822-a52afb9d7307",
   "metadata": {},
   "outputs": [
    {
     "data": {
      "text/plain": [
       "(2, 3, 5, 7, 11, 13, 17, 19)"
      ]
     },
     "execution_count": 22,
     "metadata": {},
     "output_type": "execute_result"
    }
   ],
   "source": [
    "from kryptools import sieve_eratosthenes\n",
    "\n",
    "sieve_eratosthenes(20)"
   ]
  },
  {
   "cell_type": "markdown",
   "id": "c3825781-b529-4fd3-8051-bc4d08850281",
   "metadata": {},
   "source": [
    "The Prime-counting function $\\pi(x)$ and the primorial $\\#x$ is implemented by counting the number of primes returned by the sieve of Eratosthenes:"
   ]
  },
  {
   "cell_type": "code",
   "execution_count": 23,
   "id": "fca7acef-d7c6-4e99-b1f0-4e49b9f6149f",
   "metadata": {},
   "outputs": [
    {
     "data": {
      "text/plain": [
       "(8, 210)"
      ]
     },
     "execution_count": 23,
     "metadata": {},
     "output_type": "execute_result"
    }
   ],
   "source": [
    "from kryptools import prime_pi, primorial\n",
    "\n",
    "prime_pi(20), primorial(7)"
   ]
  },
  {
   "cell_type": "markdown",
   "id": "e15a4f75-90fd-4d26-9025-70c9cb4dfbef",
   "metadata": {},
   "source": [
    "To test if a number is probable prime you can use"
   ]
  },
  {
   "cell_type": "code",
   "execution_count": 24,
   "id": "2e105eeb-92a2-4b8a-86bc-3cb46c1d8b2e",
   "metadata": {},
   "outputs": [
    {
     "data": {
      "text/plain": [
       "False"
      ]
     },
     "execution_count": 24,
     "metadata": {},
     "output_type": "execute_result"
    }
   ],
   "source": [
    "from kryptools import is_prime\n",
    "\n",
    "is_prime(primorial(13) + 1)"
   ]
  },
  {
   "cell_type": "markdown",
   "id": "7ead50a3-838c-435f-aa5c-e84c2a842cc1",
   "metadata": {},
   "source": [
    "For numbers below $3317044064679887385961981$ it performs a deterministic variant of the [Miller-Rabin test](https://en.wikipedia.org/wiki/Miller%E2%80%93Rabin_primality_test)"
   ]
  },
  {
   "cell_type": "code",
   "execution_count": 25,
   "id": "bff9b093-f6cb-4158-a42e-7d347928af7f",
   "metadata": {},
   "outputs": [
    {
     "data": {
      "text/plain": [
       "False"
      ]
     },
     "execution_count": 25,
     "metadata": {},
     "output_type": "execute_result"
    }
   ],
   "source": [
    "from kryptools import miller_rabin_test\n",
    "\n",
    "miller_rabin_test(5459, [2, 3, 5, 7, 11, 13, 17, 19, 23, 29, 31, 37, 41])"
   ]
  },
  {
   "cell_type": "markdown",
   "id": "9c0b4bc1-cbe3-43fc-8e23-02553846f92e",
   "metadata": {},
   "source": [
    "Otherwise it combines trial division with small primes (for speed), a Miller-Rabin test with base $2$, and a [strong Lucas test](https://en.wikipedia.org/wiki/Lucas_pseudoprime#Implementing_a_Lucas_probable_prime_test) ([Baillie–PSW primality test](https://en.wikipedia.org/wiki/Baillie%E2%80%93PSW_primality_test))."
   ]
  },
  {
   "cell_type": "code",
   "execution_count": 26,
   "id": "50ce6f94-b891-44d4-b0eb-ee9b799cee68",
   "metadata": {},
   "outputs": [
    {
     "data": {
      "text/plain": [
       "True"
      ]
     },
     "execution_count": 26,
     "metadata": {},
     "output_type": "execute_result"
    }
   ],
   "source": [
    "from kryptools import lucas_test\n",
    "\n",
    "lucas_test(5459)"
   ]
  },
  {
   "cell_type": "markdown",
   "id": "9de95906-2193-4b11-8515-4002f54de1e7",
   "metadata": {},
   "source": [
    "The next/previous prime larger/smaller or equal to a given number"
   ]
  },
  {
   "cell_type": "code",
   "execution_count": 27,
   "id": "23a398a8-d489-4dcf-bf8a-f8577ce04b50",
   "metadata": {},
   "outputs": [
    {
     "data": {
      "text/plain": [
       "(101, 97)"
      ]
     },
     "execution_count": 27,
     "metadata": {},
     "output_type": "execute_result"
    }
   ],
   "source": [
    "from kryptools import next_prime, previous_prime\n",
    "\n",
    "next_prime(100), previous_prime(100)"
   ]
  },
  {
   "cell_type": "markdown",
   "id": "30d6d621-f554-474c-a2fd-273429f3a452",
   "metadata": {},
   "source": [
    "A pseudorandom prime (based on `secure.randbits`, so hopefully cryptographically safe) of given bit length"
   ]
  },
  {
   "cell_type": "code",
   "execution_count": 28,
   "id": "2846c396-3edc-4140-b150-9fbd69dac282",
   "metadata": {},
   "outputs": [],
   "source": [
    "from kryptools import random_prime\n",
    "\n",
    "p = random_prime(128)\n",
    "assert is_prime(p)\n",
    "assert p.bit_length() == 128"
   ]
  },
  {
   "cell_type": "markdown",
   "id": "6372ab51-84ff-48aa-8c19-be26bcc2c062",
   "metadata": {},
   "source": [
    "Similarly, a pseudorandom [safe prime](https://en.wikipedia.org/wiki/Safe_and_Sophie_Germain_primes) $p$ of given bit length with $2$ generating the large subgroup, $\\text{ord}(2)=(p-1)/2$:"
   ]
  },
  {
   "cell_type": "code",
   "execution_count": 29,
   "id": "c684e98a-8f99-42cb-a74b-0665afc861c4",
   "metadata": {},
   "outputs": [],
   "source": [
    "from kryptools import is_safeprime, order, random_safeprime\n",
    "\n",
    "p = random_safeprime(128)\n",
    "assert is_safeprime(p)\n",
    "assert p.bit_length() == 128\n",
    "assert order(2, p) == (p - 1) // 2"
   ]
  },
  {
   "cell_type": "markdown",
   "id": "657ecba2-6ab1-44cf-b408-375c6a0775e6",
   "metadata": {},
   "source": [
    "A list of the first safe primes together with the corresponding Sophie Germain primes can be optained as follows:"
   ]
  },
  {
   "cell_type": "code",
   "execution_count": 30,
   "id": "ffb941cf-7ca9-43b7-bf33-90538e15dc31",
   "metadata": {},
   "outputs": [
    {
     "data": {
      "text/plain": [
       "[(2, 5),\n",
       " (3, 7),\n",
       " (5, 11),\n",
       " (11, 23),\n",
       " (23, 47),\n",
       " (29, 59),\n",
       " (41, 83),\n",
       " (53, 107),\n",
       " (83, 167),\n",
       " (89, 179)]"
      ]
     },
     "execution_count": 30,
     "metadata": {},
     "output_type": "execute_result"
    }
   ],
   "source": [
    "[((p - 1) // 2, p) for p in sieve_eratosthenes(200) if is_safeprime(p)]"
   ]
  },
  {
   "cell_type": "markdown",
   "id": "2374f4d1-3171-4c5e-9fc8-c775c08716de",
   "metadata": {},
   "source": [
    "Finally, a pseudorandom [strong prime](https://en.wikipedia.org/wiki/Strong_prime) $p$ with factors of $p\\pm 1$ of given bit length using Gordon's algorithm:"
   ]
  },
  {
   "cell_type": "code",
   "execution_count": 31,
   "id": "4daf1ed9-1923-41dd-b882-13f3a5561c49",
   "metadata": {},
   "outputs": [
    {
     "data": {
      "text/plain": [
       "265"
      ]
     },
     "execution_count": 31,
     "metadata": {},
     "output_type": "execute_result"
    }
   ],
   "source": [
    "from kryptools import random_strongprime\n",
    "\n",
    "t, s, r, p = random_strongprime(128)\n",
    "assert is_prime(p) and is_prime(t) and is_prime(s) and is_prime(r)\n",
    "assert (p + 1) % s == 0 and (p - 1) % r == 0 and (r - 1) % t == 0\n",
    "p.bit_length()"
   ]
  },
  {
   "cell_type": "markdown",
   "id": "6735aac6-40c5-489d-be8c-31ad0a786eb6",
   "metadata": {},
   "source": [
    "## Number theory"
   ]
  },
  {
   "cell_type": "markdown",
   "id": "4fac1421-0d8f-43e3-94de-242beabc7d06",
   "metadata": {},
   "source": [
    "To perform the [extended Euclidean algorithm](https://en.wikipedia.org/wiki/Extended_Euclidean_algorithm) use"
   ]
  },
  {
   "cell_type": "code",
   "execution_count": 32,
   "id": "5bb1d486-3964-4c70-8e7b-7af2de14e777",
   "metadata": {},
   "outputs": [
    {
     "data": {
      "text/plain": [
       "(1, -1, 1)"
      ]
     },
     "execution_count": 32,
     "metadata": {},
     "output_type": "execute_result"
    }
   ],
   "source": [
    "from kryptools.nt import egcd\n",
    "\n",
    "a, b = 7, 8\n",
    "g, x, y = egcd(a, b)\n",
    "\n",
    "assert x * a + y * b == g\n",
    "g, x, y"
   ]
  },
  {
   "cell_type": "markdown",
   "id": "875e1278-c6d0-43de-a1eb-c4f271500fd3",
   "metadata": {},
   "source": [
    "To solve a list of congruences using the [Chinese Remainder Theorem](https://en.wikipedia.org/wiki/Chinese_remainder_theorem) use"
   ]
  },
  {
   "cell_type": "code",
   "execution_count": 33,
   "id": "1f75d7f0-ddee-42d1-afed-da3bbe4157fc",
   "metadata": {},
   "outputs": [
    {
     "data": {
      "text/plain": [
       "23"
      ]
     },
     "execution_count": 33,
     "metadata": {},
     "output_type": "execute_result"
    }
   ],
   "source": [
    "from kryptools import crt\n",
    "\n",
    "a, m = [1, 2, 3], [2, 3, 5]\n",
    "sol = crt(a, m)\n",
    "\n",
    "assert [sol % p for p in m] == a\n",
    "sol"
   ]
  },
  {
   "cell_type": "markdown",
   "id": "3e81b908-262d-4166-88d0-f9d6dc900e0f",
   "metadata": {},
   "source": [
    "The moduli are assumed to be coprime. If not, you can use:"
   ]
  },
  {
   "cell_type": "code",
   "execution_count": 34,
   "id": "796b8b01-5388-4c62-b015-9a7a472c5720",
   "metadata": {},
   "outputs": [],
   "source": [
    "m = [4, 8, 12, 30]\n",
    "x = 45\n",
    "a = [x % mi for mi in m]\n",
    "\n",
    "assert crt(a, m, coprime=False) == x"
   ]
  },
  {
   "cell_type": "markdown",
   "id": "577d10df-7fd6-4924-8aa0-016894494268",
   "metadata": {},
   "source": [
    "To compute the [continued fraction](https://en.wikipedia.org/wiki/Continued_fraction) expansion of a rational number use"
   ]
  },
  {
   "cell_type": "code",
   "execution_count": 35,
   "id": "c83aa21c-a85d-48f4-92de-9955a7fa68c7",
   "metadata": {},
   "outputs": [
    {
     "data": {
      "text/plain": [
       "[0, 1, 3, 1, 1, 2]"
      ]
     },
     "execution_count": 35,
     "metadata": {},
     "output_type": "execute_result"
    }
   ],
   "source": [
    "from fractions import Fraction\n",
    "\n",
    "Fraction.__repr__ = Fraction.__str__\n",
    "from kryptools import cf, convergents\n",
    "\n",
    "cf(Fraction(18, 23))"
   ]
  },
  {
   "cell_type": "markdown",
   "id": "111d21cd-d958-4e4c-9928-f2ae97a55e3f",
   "metadata": {},
   "source": [
    "To get the convergents use"
   ]
  },
  {
   "cell_type": "code",
   "execution_count": 36,
   "id": "e9baa352-53f6-4953-b648-ae45140ae49a",
   "metadata": {},
   "outputs": [
    {
     "data": {
      "text/plain": [
       "[0, 1, 3/4, 4/5, 7/9, 18/23]"
      ]
     },
     "execution_count": 36,
     "metadata": {},
     "output_type": "execute_result"
    }
   ],
   "source": [
    "convergents(_)"
   ]
  },
  {
   "cell_type": "markdown",
   "id": "a75df0e6-4887-4ae7-a892-dd8b4170bf9d",
   "metadata": {},
   "source": [
    "To compute the [Jacobi symbol](https://en.wikipedia.org/wiki/Jacobi_symbol) use"
   ]
  },
  {
   "cell_type": "code",
   "execution_count": 37,
   "id": "75a5460f-500d-4920-9dbd-f96959907ca4",
   "metadata": {},
   "outputs": [
    {
     "data": {
      "text/plain": [
       "1"
      ]
     },
     "execution_count": 37,
     "metadata": {},
     "output_type": "execute_result"
    }
   ],
   "source": [
    "from kryptools import jacobi_symbol\n",
    "\n",
    "jacobi_symbol(4, 7)"
   ]
  },
  {
   "cell_type": "markdown",
   "id": "bea6a5f6-911f-4154-95c1-8e841d8a0930",
   "metadata": {},
   "source": [
    "Since it equals $+1$, the number is a [quadratic residue](https://en.wikipedia.org/wiki/Quadratic_residue) and has a square root modulo the prime $7$"
   ]
  },
  {
   "cell_type": "code",
   "execution_count": 38,
   "id": "4d16951d-bb88-4a16-affa-8a7757cb0d72",
   "metadata": {},
   "outputs": [
    {
     "data": {
      "text/plain": [
       "2"
      ]
     },
     "execution_count": 38,
     "metadata": {},
     "output_type": "execute_result"
    }
   ],
   "source": [
    "from kryptools import sqrt_mod\n",
    "\n",
    "sqrt_mod(4, 7)"
   ]
  },
  {
   "cell_type": "markdown",
   "id": "4b651b8b-71cc-4060-bedd-72f8bdc26b19",
   "metadata": {},
   "source": [
    "To compute [Euler's $\\varphi$ function](https://en.wikipedia.org/wiki/Euler%27s_totient_function) (a.k.a totient function) or [Carmichael's $\\lambda$ function](https://en.wikipedia.org/wiki/Carmichael_function) (a.k.a reduced totient function) or [Möbius' $\\mu$ function](https://en.wikipedia.org/wiki/Moebius_function) use"
   ]
  },
  {
   "cell_type": "code",
   "execution_count": 39,
   "id": "ade14b6b-025b-4bf9-b180-f28d57a14e27",
   "metadata": {},
   "outputs": [
    {
     "data": {
      "text/plain": [
       "(40, 20, 0)"
      ]
     },
     "execution_count": 39,
     "metadata": {},
     "output_type": "execute_result"
    }
   ],
   "source": [
    "from kryptools import carmichael_lambda, euler_phi, moebius_mu\n",
    "\n",
    "n = 100\n",
    "euler_phi(n), carmichael_lambda(n), moebius_mu(n)"
   ]
  },
  {
   "cell_type": "markdown",
   "id": "43fd2639-9099-42a3-a5ed-e50a4c628981",
   "metadata": {},
   "source": [
    "A test if a number is a [Carmichael number](https://en.wikipedia.org/wiki/Carmichael_number):"
   ]
  },
  {
   "cell_type": "code",
   "execution_count": 40,
   "id": "8dc5326e-075b-41ae-a9d8-3d305384809f",
   "metadata": {},
   "outputs": [
    {
     "data": {
      "text/plain": [
       "True"
      ]
     },
     "execution_count": 40,
     "metadata": {},
     "output_type": "execute_result"
    }
   ],
   "source": [
    "from kryptools import is_carmichael_number\n",
    "\n",
    "is_carmichael_number(561)"
   ]
  },
  {
   "cell_type": "markdown",
   "id": "76fb4f61-d902-4432-92c9-7383c4e068cd",
   "metadata": {},
   "source": [
    "To compute the order of an element of the [multiplicative group of integers modulo $n$](https://en.wikipedia.org/wiki/Multiplicative_group_of_integers_modulo_n), $\\mathbb{Z}_n^*$, use"
   ]
  },
  {
   "cell_type": "code",
   "execution_count": 41,
   "id": "c71e085a-8c47-4714-bca3-de82db263d08",
   "metadata": {},
   "outputs": [
    {
     "data": {
      "text/plain": [
       "6"
      ]
     },
     "execution_count": 41,
     "metadata": {},
     "output_type": "execute_result"
    }
   ],
   "source": [
    "from kryptools.nt import order\n",
    "\n",
    "order(5, 7)"
   ]
  },
  {
   "cell_type": "markdown",
   "id": "f65b39b9-8ca2-4d18-b895-d101efcd7092",
   "metadata": {},
   "source": [
    "### Showcase: Asmuth-Bloom scheme"
   ]
  },
  {
   "cell_type": "markdown",
   "id": "3e4ec90f-503f-4973-9fda-0fab3b19103b",
   "metadata": {},
   "source": [
    "Using the Chinise Remainder Theorem you can share a secret $s\\in\\mathbb{Z}_m$ among $n$ persons, such that $r$ persons can recover the secret, using the [Asmuth-Bloom scheme](https://en.wikipedia.org/wiki/Secret_sharing_using_the_Chinese_remainder_theorem#Asmuth%E2%80%93Bloom_threshold_secret_sharing_scheme). First we need to generate suitable parameters. We choose primes for the moduli to ensure that they are coprime."
   ]
  },
  {
   "cell_type": "code",
   "execution_count": 42,
   "id": "0e7ff518-ca8a-4132-a428-a9a623c40219",
   "metadata": {},
   "outputs": [
    {
     "data": {
      "text/plain": [
       "[8589934609, 8589934621, 8589934627, 8589934631, 8589934651]"
      ]
     },
     "execution_count": 42,
     "metadata": {},
     "output_type": "execute_result"
    }
   ],
   "source": [
    "from math import prod\n",
    "\n",
    "from kryptools import crt, next_prime\n",
    "\n",
    "n, r = 5, 3\n",
    "m = 2**32  # max size of the secret\n",
    "\n",
    "M = []\n",
    "mm = 2 * m\n",
    "for _ in range(n):\n",
    "    mm = next_prime(mm + 1)\n",
    "    M.append(mm)\n",
    "\n",
    "M1 = prod(M[:r])\n",
    "assert m * prod(M[1 - r :]) < M1  # Asmuth-Bloom condition\n",
    "M"
   ]
  },
  {
   "cell_type": "markdown",
   "id": "b17cd725-b822-4c26-8ff6-28aa0970330c",
   "metadata": {},
   "source": [
    "Now we can split a secret $s$ into $n$ pieces:"
   ]
  },
  {
   "cell_type": "code",
   "execution_count": 43,
   "id": "f55d33f5-0576-4214-b9b1-980559331d4b",
   "metadata": {},
   "outputs": [
    {
     "data": {
      "text/plain": [
       "[953188841, 2267150034, 7376225206, 341660855, 3090211041]"
      ]
     },
     "execution_count": 43,
     "metadata": {},
     "output_type": "execute_result"
    }
   ],
   "source": [
    "from random import randint, seed\n",
    "\n",
    "seed(0)\n",
    "\n",
    "s = randint(0, m - 1)\n",
    "t = randint(1, (M1 - s) // m)\n",
    "x = s + t * m\n",
    "del t  # t is no longer needed and should be deleted for security reasons\n",
    "assert x < M1\n",
    "\n",
    "A = [x % mm for mm in M]\n",
    "A"
   ]
  },
  {
   "cell_type": "markdown",
   "id": "d4b7f5f5-ff21-4ac0-80bd-7a2abd80bf55",
   "metadata": {},
   "source": [
    "Let us check that it worked:"
   ]
  },
  {
   "cell_type": "code",
   "execution_count": 44,
   "id": "cfe6f3fc-af1e-467a-bbe7-6ab726836ca3",
   "metadata": {},
   "outputs": [],
   "source": [
    "from random import sample\n",
    "\n",
    "smpl = sample(range(n), r)\n",
    "\n",
    "assert crt([A[i] for i in smpl], [M[i] for i in smpl]) % m == s"
   ]
  },
  {
   "cell_type": "markdown",
   "id": "1abd4c61-aef3-46be-bc87-0a37b7440e58",
   "metadata": {},
   "source": [
    "## Factoring integers"
   ]
  },
  {
   "cell_type": "markdown",
   "id": "32ef7b6f-6748-4f5d-9a7c-266a9a80b22d",
   "metadata": {},
   "source": [
    "To factor an integer $n$ into its prime factors use"
   ]
  },
  {
   "cell_type": "code",
   "execution_count": 45,
   "id": "49a0a92d-e58d-49e5-b9fb-79c4d30c200a",
   "metadata": {},
   "outputs": [
    {
     "name": "stdout",
     "output_type": "stream",
     "text": [
      "Factoring: 340282366920938463463374607431768211457 (39 digits)\n",
      "Trial division found: []\n",
      "Round 1 (B1=5000)\n",
      "Factors found (ecm):  [59649589127497217, 5704689200685129054721]\n"
     ]
    },
    {
     "data": {
      "text/plain": [
       "{59649589127497217: 1, 5704689200685129054721: 1}"
      ]
     },
     "execution_count": 45,
     "metadata": {},
     "output_type": "execute_result"
    }
   ],
   "source": [
    "from kryptools import factorint\n",
    "\n",
    "n = 2**128 + 1\n",
    "factorint(n, verbose=1)"
   ]
  },
  {
   "cell_type": "markdown",
   "id": "1f6924cd-31e8-4701-bf02-0c8c719e870d",
   "metadata": {},
   "source": [
    "There are also tests if a number is a [perfect power](https://en.wikipedia.org/wiki/Perfect_power) (if it is not, `None` will be returned)"
   ]
  },
  {
   "cell_type": "code",
   "execution_count": 46,
   "id": "e8788850-9df6-45d9-9b3f-3ce7b1db13cb",
   "metadata": {},
   "outputs": [
    {
     "data": {
      "text/plain": [
       "(10, 2)"
      ]
     },
     "execution_count": 46,
     "metadata": {},
     "output_type": "execute_result"
    }
   ],
   "source": [
    "from kryptools import perfect_power\n",
    "\n",
    "perfect_power(100)"
   ]
  },
  {
   "cell_type": "markdown",
   "id": "68b6f3cf-0715-4a02-b5f3-3d5ce47109ff",
   "metadata": {},
   "source": [
    "or a prime power (if it is not, `None` will be returned)"
   ]
  },
  {
   "cell_type": "code",
   "execution_count": 47,
   "id": "315a12c6-cd1f-49fa-8599-6cb6a6526d33",
   "metadata": {},
   "outputs": [
    {
     "data": {
      "text/plain": [
       "(9973, 100)"
      ]
     },
     "execution_count": 47,
     "metadata": {},
     "output_type": "execute_result"
    }
   ],
   "source": [
    "from kryptools import prime_power\n",
    "\n",
    "prime_power(9973**100)"
   ]
  },
  {
   "cell_type": "markdown",
   "id": "c7e2f616-4da9-458e-897c-701ee5e55cac",
   "metadata": {},
   "source": [
    "For factoring you can also use a specific algorithm (if no factor is found, `None` is returned):"
   ]
  },
  {
   "cell_type": "markdown",
   "id": "c1a4f311-b342-4aa4-a877-8fc512c8e30f",
   "metadata": {},
   "source": [
    "[Fermat's method](https://en.wikipedia.org/wiki/Fermat%27s_factorization_method)"
   ]
  },
  {
   "cell_type": "code",
   "execution_count": 48,
   "id": "9a629204-562c-44eb-a012-7345b97035b5",
   "metadata": {},
   "outputs": [
    {
     "data": {
      "text/plain": [
       "[487, 1709]"
      ]
     },
     "execution_count": 48,
     "metadata": {},
     "output_type": "execute_result"
    }
   ],
   "source": [
    "from kryptools.factor_fmt import factor_fermat\n",
    "\n",
    "factor_fermat(832283)"
   ]
  },
  {
   "cell_type": "markdown",
   "id": "450c25e8-1654-4177-9de3-1c4f8d41024a",
   "metadata": {},
   "source": [
    "[Pollard $p-1$](https://en.wikipedia.org/wiki/Pollard%27s_p_%E2%88%92_1_algorithm)"
   ]
  },
  {
   "cell_type": "code",
   "execution_count": 49,
   "id": "39f76a97-1b88-4b95-aac7-bf403043d7b7",
   "metadata": {},
   "outputs": [
    {
     "data": {
      "text/plain": [
       "1709"
      ]
     },
     "execution_count": 49,
     "metadata": {},
     "output_type": "execute_result"
    }
   ],
   "source": [
    "from kryptools.factor_pm1 import factor_pm1\n",
    "\n",
    "factor_pm1(832283)"
   ]
  },
  {
   "cell_type": "markdown",
   "id": "10ac68ee-77f3-4ea2-9906-4640b89a0113",
   "metadata": {},
   "source": [
    "[Pollard $\\rho$](https://en.wikipedia.org/wiki/Pollard%27s_rho_algorithm)"
   ]
  },
  {
   "cell_type": "code",
   "execution_count": 50,
   "id": "6c0cb7c6-03e5-469f-8420-496813bd26ea",
   "metadata": {},
   "outputs": [
    {
     "data": {
      "text/plain": [
       "487"
      ]
     },
     "execution_count": 50,
     "metadata": {},
     "output_type": "execute_result"
    }
   ],
   "source": [
    "from kryptools.factor_rho import factor_rho\n",
    "\n",
    "factor_rho(832283)"
   ]
  },
  {
   "cell_type": "markdown",
   "id": "3d847314-d9af-4a72-af15-374755d6ff93",
   "metadata": {},
   "source": [
    "[Lentstra's ECM](https://en.wikipedia.org/wiki/Lenstra_elliptic-curve_factorization)"
   ]
  },
  {
   "cell_type": "code",
   "execution_count": 51,
   "id": "e68d0db0-7d1d-4a00-ad6e-10656c829708",
   "metadata": {},
   "outputs": [
    {
     "data": {
      "text/plain": [
       "487"
      ]
     },
     "execution_count": 51,
     "metadata": {},
     "output_type": "execute_result"
    }
   ],
   "source": [
    "from kryptools.factor_ecm import factor_ecm\n",
    "\n",
    "factor_ecm(832283)"
   ]
  },
  {
   "cell_type": "markdown",
   "id": "d1063826-9638-4440-b4e4-316e5872d457",
   "metadata": {},
   "source": [
    "A variant of [Dixon's method](https://en.wikipedia.org/wiki/Dixon%27s_factorization_method)"
   ]
  },
  {
   "cell_type": "code",
   "execution_count": 52,
   "id": "3b7c0474-835b-4b10-b0d3-a7b8f62eff23",
   "metadata": {},
   "outputs": [
    {
     "data": {
      "text/plain": [
       "1709"
      ]
     },
     "execution_count": 52,
     "metadata": {},
     "output_type": "execute_result"
    }
   ],
   "source": [
    "from kryptools.factor_dix import factor_dixon\n",
    "\n",
    "factor_dixon(832283)"
   ]
  },
  {
   "cell_type": "markdown",
   "id": "3fbf88d5-326f-4e84-bdae-cf9278a6838e",
   "metadata": {},
   "source": [
    "[Quadratic sieve](https://en.wikipedia.org/wiki/Quadratic_sieve) (with a single polynomial)"
   ]
  },
  {
   "cell_type": "code",
   "execution_count": 53,
   "id": "8ee9854b-6ce0-43b6-906d-98f52fb74d8e",
   "metadata": {},
   "outputs": [
    {
     "data": {
      "text/plain": [
       "1709"
      ]
     },
     "execution_count": 53,
     "metadata": {},
     "output_type": "execute_result"
    }
   ],
   "source": [
    "from kryptools.factor_qs import factor_qs\n",
    "\n",
    "factor_qs(832283)"
   ]
  },
  {
   "cell_type": "markdown",
   "id": "922e978f-5617-4f19-a00e-bfcda8ef3eee",
   "metadata": {},
   "source": [
    "## Discrete logarithms"
   ]
  },
  {
   "cell_type": "markdown",
   "id": "69f3bc4f-7745-4650-83e4-e67a08454e0c",
   "metadata": {},
   "source": [
    "To solve a [discrete log](https://en.wikipedia.org/wiki/Discrete_logarithm) problem use"
   ]
  },
  {
   "cell_type": "code",
   "execution_count": 54,
   "id": "46ab20cc-8d39-4d7b-baef-f411cf34deb7",
   "metadata": {},
   "outputs": [],
   "source": [
    "from random import randint\n",
    "\n",
    "from kryptools import dlog\n",
    "\n",
    "p, m, a = [557639, 278819, 2]  # m is the order of a in Z_p\n",
    "x = randint(2, m - 1)\n",
    "b = pow(a, x, p)\n",
    "assert dlog(a, b, p) == x"
   ]
  },
  {
   "cell_type": "markdown",
   "id": "d09d2d61-d0cc-4cf8-93e3-fc07166b3ec8",
   "metadata": {},
   "source": [
    "You can also use a specific algorithm:"
   ]
  },
  {
   "cell_type": "markdown",
   "id": "f2f9aeb4-52e7-42af-a546-0436e4ba8052",
   "metadata": {},
   "source": [
    "Exhaustive search:"
   ]
  },
  {
   "cell_type": "code",
   "execution_count": 55,
   "id": "66ae327c-ff14-4bff-b12d-330c1787cd6b",
   "metadata": {},
   "outputs": [],
   "source": [
    "from kryptools.dlp import dlog_naive\n",
    "\n",
    "p, m, a = [557639, 278819, 2]\n",
    "x = randint(2, m - 1)\n",
    "b = pow(a, x, p)\n",
    "assert dlog(a, b, p, m) == x"
   ]
  },
  {
   "cell_type": "markdown",
   "id": "a7f946d1-6830-4581-aa15-404ea1d6d928",
   "metadata": {},
   "source": [
    "[Pollard $\\rho$](https://en.wikipedia.org/wiki/Pollard%27s_rho_algorithm) (with Brent's or Floyd's [cycle detection algorithm](https://en.wikipedia.org/wiki/Cycle_detection))"
   ]
  },
  {
   "cell_type": "code",
   "execution_count": 56,
   "id": "d1ce2beb-4e60-4a56-9943-d47f1945f13a",
   "metadata": {},
   "outputs": [],
   "source": [
    "from kryptools.dlp_rho import dlog_rho\n",
    "\n",
    "p, m, a = [557639, 278819, 2]\n",
    "x = randint(2, m - 1)\n",
    "b = pow(a, x, p)\n",
    "assert dlog_rho(a, b, p, m, brent=True) == x"
   ]
  },
  {
   "cell_type": "markdown",
   "id": "37794801-b252-4a26-8d21-40b21e3c416f",
   "metadata": {},
   "source": [
    "Shanks's [baby step/giant step](https://en.wikipedia.org/wiki/Baby-step_giant-step) algorithm"
   ]
  },
  {
   "cell_type": "code",
   "execution_count": 57,
   "id": "fb231c7c-293f-4353-8048-1de3d26568e1",
   "metadata": {},
   "outputs": [],
   "source": [
    "from kryptools.dlp_bsgs import dlog_bsgs\n",
    "\n",
    "p, m, a = [557639, 278819, 2]\n",
    "x = randint(2, m - 1)\n",
    "b = pow(a, x, p)\n",
    "assert dlog_bsgs(a, b, p, m) == x"
   ]
  },
  {
   "cell_type": "markdown",
   "id": "c7d73623-0cf9-4a9f-8b4e-5d92b8980fbf",
   "metadata": {},
   "source": [
    "[Index calculus](https://en.wikipedia.org/wiki/Index_calculus_algorithm)"
   ]
  },
  {
   "cell_type": "code",
   "execution_count": 58,
   "id": "ad8d5929-488e-44bc-9263-91044a2886d4",
   "metadata": {},
   "outputs": [
    {
     "name": "stdout",
     "output_type": "stream",
     "text": [
      "Factorbase: bound = 359, size = 72, max_trys = 3000\n",
      "Success after 69 relations out of 73.\n"
     ]
    }
   ],
   "source": [
    "from kryptools.dlp_ic import dlog_ic\n",
    "\n",
    "p, m, a = [24570203447, 12285101723, 2]\n",
    "x = randint(2, m - 1)\n",
    "b = pow(a, x, p)\n",
    "assert dlog_ic(a, b, p, m, verbose=1) == x"
   ]
  },
  {
   "cell_type": "markdown",
   "id": "e96af2c4-014b-491f-9cbf-0564ddad1d7e",
   "metadata": {},
   "source": [
    "Quadratic sieve"
   ]
  },
  {
   "cell_type": "code",
   "execution_count": 59,
   "id": "882543ac-a2f7-4448-93bd-d9385d3457f6",
   "metadata": {},
   "outputs": [
    {
     "name": "stdout",
     "output_type": "stream",
     "text": [
      "Factorbase: bound = 1903,  size = 291 + 470 = 761, max_trys = 32530\n",
      "Done sieving.\n",
      "Success after 476 relations out of 762.\n"
     ]
    }
   ],
   "source": [
    "from kryptools.dlp_qs import dlog_qs\n",
    "\n",
    "p, m, a = [28031135240181527, 14015567620090763, 2]\n",
    "x = randint(2, m - 1)\n",
    "b = pow(a, x, p)\n",
    "assert dlog_qs(a, b, p, m, verbose=1) == x"
   ]
  },
  {
   "cell_type": "markdown",
   "id": "94f81f47-b7a6-444e-87fa-2d5390506708",
   "metadata": {},
   "source": [
    "## Linear Algebra"
   ]
  },
  {
   "cell_type": "markdown",
   "id": "7ba2b164-df1a-417a-a0f0-8c127b04bbbd",
   "metadata": {},
   "source": [
    "The basic class for working with [matrices](https://en.wikipedia.org/wiki/Matrix_(mathematics)):"
   ]
  },
  {
   "cell_type": "code",
   "execution_count": 60,
   "id": "4626c758-753b-4d3a-9ed0-99038ca5f280",
   "metadata": {},
   "outputs": [
    {
     "data": {
      "text/latex": [
       "$\\displaystyle\\begin{pmatrix}\n",
       "19\\\\\n",
       "35\\\\\n",
       "\\end{pmatrix}$"
      ],
      "text/plain": [
       "[ 19 ]\n",
       "[ 35 ]"
      ]
     },
     "execution_count": 60,
     "metadata": {},
     "output_type": "execute_result"
    }
   ],
   "source": [
    "from kryptools import Matrix\n",
    "\n",
    "M = Matrix([[1, 2, 3], [3, 4, 5]])\n",
    "N = Matrix([[1], [3], [4]])\n",
    "M * N"
   ]
  },
  {
   "cell_type": "markdown",
   "id": "478ac3a5-b321-42d4-a6ff-8d73452ccadb",
   "metadata": {},
   "source": [
    "You can customize the ASCII display of a matrix using:"
   ]
  },
  {
   "cell_type": "code",
   "execution_count": 61,
   "id": "6c873609-8bf0-4ef9-a86b-e1e987022363",
   "metadata": {},
   "outputs": [
    {
     "name": "stdout",
     "output_type": "stream",
     "text": [
      "(1 2 3)\n",
      "(3 4 5)\n"
     ]
    }
   ],
   "source": [
    "Matrix.print_pre, Matrix.print_sep, Matrix.print_post = \"(\", \" \", \")\"\n",
    "\n",
    "print(M)"
   ]
  },
  {
   "cell_type": "markdown",
   "id": "a9d88c14-8539-4848-99ce-15bf0fa6aa64",
   "metadata": {},
   "source": [
    "To reset the default use"
   ]
  },
  {
   "cell_type": "code",
   "execution_count": 62,
   "id": "31d97bf8-eafa-4ed4-aaaf-2fc497f337b9",
   "metadata": {},
   "outputs": [
    {
     "name": "stdout",
     "output_type": "stream",
     "text": [
      "[ 1, 2, 3 ]\n",
      "[ 3, 4, 5 ]\n"
     ]
    }
   ],
   "source": [
    "Matrix.print_pre, Matrix.print_sep, Matrix.print_post = \"[ \", \", \", \" ]\"\n",
    "\n",
    "print(M)"
   ]
  },
  {
   "cell_type": "markdown",
   "id": "358b9f09-2048-4652-9351-a37b3ab6dd93",
   "metadata": {},
   "source": [
    "Slicing to access (e.g.) rows:"
   ]
  },
  {
   "cell_type": "code",
   "execution_count": 63,
   "id": "8a2f83a9-7114-43a1-baee-7f6bb6c45f30",
   "metadata": {},
   "outputs": [
    {
     "data": {
      "text/latex": [
       "$\\displaystyle\\begin{pmatrix}\n",
       "1\\\\\n",
       "3\\\\\n",
       "\\end{pmatrix}$"
      ],
      "text/plain": [
       "[ 1 ]\n",
       "[ 3 ]"
      ]
     },
     "execution_count": 63,
     "metadata": {},
     "output_type": "execute_result"
    }
   ],
   "source": [
    "M[:, 0]"
   ]
  },
  {
   "cell_type": "markdown",
   "id": "178cec9c-29a5-4f10-9d62-4e40ba3b9f9d",
   "metadata": {},
   "source": [
    "Also works with assignments, e.g., to swap two columns:"
   ]
  },
  {
   "cell_type": "code",
   "execution_count": 64,
   "id": "ef4a7e98-4d55-482b-a264-6aab3283e6ec",
   "metadata": {},
   "outputs": [
    {
     "data": {
      "text/latex": [
       "$\\displaystyle\\begin{pmatrix}\n",
       "3 & 4 & 5\\\\\n",
       "1 & 2 & 3\\\\\n",
       "\\end{pmatrix}$"
      ],
      "text/plain": [
       "[ 3, 4, 5 ]\n",
       "[ 1, 2, 3 ]"
      ]
     },
     "execution_count": 64,
     "metadata": {},
     "output_type": "execute_result"
    }
   ],
   "source": [
    "M[0, :], M[1, :] = M[1, :], M[0, :]\n",
    "M"
   ]
  },
  {
   "cell_type": "markdown",
   "id": "54cb8732-3a2c-4366-bbe3-e10738d1a5fd",
   "metadata": {},
   "source": [
    "To delete a column:"
   ]
  },
  {
   "cell_type": "code",
   "execution_count": 65,
   "id": "90353b71-3899-4e82-9975-62ae28a2623f",
   "metadata": {},
   "outputs": [
    {
     "data": {
      "text/latex": [
       "$\\displaystyle\\begin{pmatrix}\n",
       "3 & 4 & 5\\\\\n",
       "\\end{pmatrix}$"
      ],
      "text/plain": [
       "[ 3, 4, 5 ]"
      ]
     },
     "execution_count": 65,
     "metadata": {},
     "output_type": "execute_result"
    }
   ],
   "source": [
    "del M[-1, :]\n",
    "M"
   ]
  },
  {
   "cell_type": "markdown",
   "id": "72e95acf-ae6f-4d26-b22e-4baf15813016",
   "metadata": {},
   "source": [
    "The coefficients can be from a ring or field, e.g. `Fractions`. This can be done either by using `ring=Fraction` during creation or using the `map` method which applies a given function to all elements."
   ]
  },
  {
   "cell_type": "code",
   "execution_count": 66,
   "id": "3bec64e6-937f-4041-a710-cf42c95a8689",
   "metadata": {},
   "outputs": [
    {
     "data": {
      "text/latex": [
       "$\\displaystyle\\begin{pmatrix}\n",
       "1 & 2 & 3\\\\\n",
       "4 & 5 & 6\\\\\n",
       "7 & 8 & 12\\\\\n",
       "\\end{pmatrix}$"
      ],
      "text/plain": [
       "[ 1, 2,  3 ]\n",
       "[ 4, 5,  6 ]\n",
       "[ 7, 8, 12 ]"
      ]
     },
     "execution_count": 66,
     "metadata": {},
     "output_type": "execute_result"
    }
   ],
   "source": [
    "from fractions import Fraction\n",
    "\n",
    "M = Matrix([[1, 2, 3], [4, 5, 6], [7, 8, 12]])\n",
    "M.map(Fraction)\n",
    "M"
   ]
  },
  {
   "cell_type": "markdown",
   "id": "49dda85e-f47b-4e77-8f6b-d1e2fede7e1a",
   "metadata": {},
   "source": [
    "We can compute the [row reduced echelon form](https://en.wikipedia.org/wiki/Row_echelon_form)"
   ]
  },
  {
   "cell_type": "code",
   "execution_count": 67,
   "id": "ab222100-fc64-49b9-b5ef-2d6ae719f15c",
   "metadata": {},
   "outputs": [
    {
     "data": {
      "text/latex": [
       "$\\displaystyle\\begin{pmatrix}\n",
       "1 & 0 & 0\\\\\n",
       "0 & 1 & 0\\\\\n",
       "0 & 0 & 1\\\\\n",
       "\\end{pmatrix}$"
      ],
      "text/plain": [
       "[ 1, 0, 0 ]\n",
       "[ 0, 1, 0 ]\n",
       "[ 0, 0, 1 ]"
      ]
     },
     "execution_count": 67,
     "metadata": {},
     "output_type": "execute_result"
    }
   ],
   "source": [
    "M.rref()"
   ]
  },
  {
   "cell_type": "markdown",
   "id": "996ccdd5-7d72-4df5-83bb-fa2f7172a1f2",
   "metadata": {},
   "source": [
    "the [determinant](https://en.wikipedia.org/wiki/Determinant)"
   ]
  },
  {
   "cell_type": "code",
   "execution_count": 68,
   "id": "a99ed976-cbdd-4ce7-8a97-efcee7fd510d",
   "metadata": {},
   "outputs": [
    {
     "data": {
      "text/plain": [
       "-9"
      ]
     },
     "execution_count": 68,
     "metadata": {},
     "output_type": "execute_result"
    }
   ],
   "source": [
    "M.det()"
   ]
  },
  {
   "cell_type": "markdown",
   "id": "03232c46-467b-45ee-b984-0e9593a0f212",
   "metadata": {},
   "source": [
    "the [rank](https://en.wikipedia.org/wiki/Rank_(linear_algebra))"
   ]
  },
  {
   "cell_type": "code",
   "execution_count": 69,
   "id": "35e7fb70-c092-4508-9489-e9466bb4fc3f",
   "metadata": {},
   "outputs": [
    {
     "data": {
      "text/plain": [
       "3"
      ]
     },
     "execution_count": 69,
     "metadata": {},
     "output_type": "execute_result"
    }
   ],
   "source": [
    "M.rank()"
   ]
  },
  {
   "cell_type": "markdown",
   "id": "18a119f0-b89d-419b-a36a-121db619dc80",
   "metadata": {},
   "source": [
    "or the [inverse](https://en.wikipedia.org/wiki/Invertible_matrix)"
   ]
  },
  {
   "cell_type": "code",
   "execution_count": 70,
   "id": "64294f1f-d3ef-41b0-ad59-d68e69c89aba",
   "metadata": {},
   "outputs": [
    {
     "data": {
      "text/latex": [
       "$\\displaystyle\\begin{pmatrix}\n",
       "-4/3 & 0 & 1/3\\\\\n",
       "2/3 & 1 & -2/3\\\\\n",
       "1/3 & -2/3 & 1/3\\\\\n",
       "\\end{pmatrix}$"
      ],
      "text/plain": [
       "[ -4/3,    0,  1/3 ]\n",
       "[  2/3,    1, -2/3 ]\n",
       "[  1/3, -2/3,  1/3 ]"
      ]
     },
     "execution_count": 70,
     "metadata": {},
     "output_type": "execute_result"
    }
   ],
   "source": [
    "Mi = M.inv()\n",
    "assert M * Mi == M.eye()\n",
    "Mi"
   ]
  },
  {
   "cell_type": "markdown",
   "id": "169349b6-6031-430b-aef7-a4c0b71bd41d",
   "metadata": {},
   "source": [
    "Solving a linear system $A x = b$ (it will return one solution or `None` if no solution exists):"
   ]
  },
  {
   "cell_type": "code",
   "execution_count": 71,
   "id": "cec15005-ee57-4c80-885f-01fa78d1bbd8",
   "metadata": {},
   "outputs": [
    {
     "data": {
      "text/latex": [
       "$\\displaystyle\\begin{pmatrix}\n",
       "1/2\\\\\n",
       "0\\\\\n",
       "\\end{pmatrix}$"
      ],
      "text/plain": [
       "[ 1/2 ]\n",
       "[   0 ]"
      ]
     },
     "execution_count": 71,
     "metadata": {},
     "output_type": "execute_result"
    }
   ],
   "source": [
    "A = Matrix([[2, 1], [2, 1]], ring = Fraction)\n",
    "b = Matrix([1, 1], ring = Fraction)\n",
    "\n",
    "sol = A.solve(b)\n",
    "if sol:\n",
    "    assert A * sol == b\n",
    "sol"
   ]
  },
  {
   "cell_type": "markdown",
   "id": "d79248b1-0b22-4b5a-bf2c-9d6cb71aaf7c",
   "metadata": {},
   "source": [
    "Same works if the coefficients are from a finite field or ring:"
   ]
  },
  {
   "cell_type": "code",
   "execution_count": 72,
   "id": "47961b0f-e632-4d1c-9445-de3c217bce10",
   "metadata": {},
   "outputs": [
    {
     "data": {
      "text/plain": [
       "2"
      ]
     },
     "execution_count": 72,
     "metadata": {},
     "output_type": "execute_result"
    }
   ],
   "source": [
    "gf = Zmod(11)\n",
    "\n",
    "M = Matrix([[1, 2, 3], [4, 5, 6], [7, 8, 12]], ring=gf)\n",
    "M.det()"
   ]
  },
  {
   "cell_type": "code",
   "execution_count": 73,
   "id": "d9cfb165-6e94-413b-9a91-5c5aa3870aa3",
   "metadata": {},
   "outputs": [
    {
     "data": {
      "text/latex": [
       "$\\displaystyle\\begin{pmatrix}\n",
       "6 & 0 & 4\\\\\n",
       "8 & 1 & 3\\\\\n",
       "4 & 3 & 4\\\\\n",
       "\\end{pmatrix}$"
      ],
      "text/plain": [
       "[ 6, 0, 4 ]\n",
       "[ 8, 1, 3 ]\n",
       "[ 4, 3, 4 ]"
      ]
     },
     "execution_count": 73,
     "metadata": {},
     "output_type": "execute_result"
    }
   ],
   "source": [
    "Mi = M.inv()\n",
    "assert M * Mi == M.eye()\n",
    "Mi"
   ]
  },
  {
   "cell_type": "markdown",
   "id": "9efdd934-1fe0-4ca0-be46-50854d67ee81",
   "metadata": {},
   "source": [
    "Note that `eye` will give you the identity matrix of the same dimensions. There is also a function `zeros` to create a zero matrix. Moreover, both are also available as stand alone functions and take the desired dimensions as arguments."
   ]
  },
  {
   "cell_type": "code",
   "execution_count": 74,
   "id": "68d28f58-2c94-4a2a-86e8-69fe4451a4ef",
   "metadata": {},
   "outputs": [
    {
     "data": {
      "text/latex": [
       "$\\displaystyle\\begin{pmatrix}\n",
       "0 & 0\\\\\n",
       "0 & 0\\\\\n",
       "0 & 0\\\\\n",
       "\\end{pmatrix}$"
      ],
      "text/plain": [
       "[ 0, 0 ]\n",
       "[ 0, 0 ]\n",
       "[ 0, 0 ]"
      ]
     },
     "execution_count": 74,
     "metadata": {},
     "output_type": "execute_result"
    }
   ],
   "source": [
    "from kryptools import eye, zeros\n",
    "\n",
    "zeros(3,2)"
   ]
  },
  {
   "cell_type": "markdown",
   "id": "6a18d736-a6f2-40bf-a154-a143a9252f02",
   "metadata": {},
   "source": [
    "## Lattice"
   ]
  },
  {
   "cell_type": "markdown",
   "id": "68b25452-c46b-40fb-80e5-bbfe94ec7666",
   "metadata": {},
   "source": [
    "To compute the [Hermite normal form](https://en.wikipedia.org/wiki/Hermite_normal_form) use"
   ]
  },
  {
   "cell_type": "code",
   "execution_count": 75,
   "id": "0f5a048b-767e-4848-bb23-c898365ee9dc",
   "metadata": {},
   "outputs": [
    {
     "data": {
      "text/latex": [
       "$\\displaystyle\\begin{pmatrix}\n",
       "69 & 58 & 36\\\\\n",
       "0 & 1 & 0\\\\\n",
       "0 & 0 & 1\\\\\n",
       "\\end{pmatrix}$"
      ],
      "text/plain": [
       "[ 69, 58, 36 ]\n",
       "[  0,  1,  0 ]\n",
       "[  0,  0,  1 ]"
      ]
     },
     "execution_count": 75,
     "metadata": {},
     "output_type": "execute_result"
    }
   ],
   "source": [
    "from kryptools import hermite_nf\n",
    "\n",
    "M = Matrix([[1, 2, 3, 1], [4, 5, 6, 4], [7, -8, 0, 7]])\n",
    "hermite_nf(M)"
   ]
  },
  {
   "cell_type": "markdown",
   "id": "a1dbf2dc-1a7c-49f0-aa4f-223ee7d83966",
   "metadata": {},
   "source": [
    "To compute the [Gram-Schmidt decomposition](https://en.wikipedia.org/wiki/Gram%E2%80%93Schmidt_process) use"
   ]
  },
  {
   "cell_type": "code",
   "execution_count": 76,
   "id": "61bad2d5-2fad-4f5a-b4cf-206fca8e09fd",
   "metadata": {},
   "outputs": [
    {
     "data": {
      "text/latex": [
       "$\\displaystyle\\begin{pmatrix}\n",
       "5 & 0\\\\\n",
       "0 & 1\\\\\n",
       "\\end{pmatrix}$"
      ],
      "text/plain": [
       "[ 5, 0 ]\n",
       "[ 0, 1 ]"
      ]
     },
     "execution_count": 76,
     "metadata": {},
     "output_type": "execute_result"
    }
   ],
   "source": [
    "from kryptools import gram_schmidt\n",
    "\n",
    "V = Matrix([[5, 8], [0, 1]], ring=Fraction)\n",
    "Vs, M = gram_schmidt(V)\n",
    "assert V == Vs * M\n",
    "Vs"
   ]
  },
  {
   "cell_type": "markdown",
   "id": "fba41596-6584-4434-8b97-1cac182002fb",
   "metadata": {},
   "source": [
    "To compute the [lattice](https://en.wikipedia.org/wiki/Lattice_(group)) determinant/[gram determinant](https://en.wikipedia.org/wiki/Gram_matrix) use"
   ]
  },
  {
   "cell_type": "code",
   "execution_count": 77,
   "id": "5712d013-c037-4b03-9f62-13fdaaae855b",
   "metadata": {},
   "outputs": [
    {
     "data": {
      "text/plain": [
       "5.0"
      ]
     },
     "execution_count": 77,
     "metadata": {},
     "output_type": "execute_result"
    }
   ],
   "source": [
    "from kryptools import gram_det\n",
    "\n",
    "gram_det(V)"
   ]
  },
  {
   "cell_type": "markdown",
   "id": "a6249703-d4fe-4aa5-a924-49f0a33cae08",
   "metadata": {},
   "source": [
    "To compute the Hadamard ratio use"
   ]
  },
  {
   "cell_type": "code",
   "execution_count": 78,
   "id": "0c56dbdc-caa4-4783-8c2f-8f586a8dc4a1",
   "metadata": {},
   "outputs": [
    {
     "data": {
      "text/plain": [
       "0.3521856535823236"
      ]
     },
     "execution_count": 78,
     "metadata": {},
     "output_type": "execute_result"
    }
   ],
   "source": [
    "from kryptools import hadamard_ratio\n",
    "\n",
    "hadamard_ratio(V)"
   ]
  },
  {
   "cell_type": "markdown",
   "id": "8ee9a816-41f4-4d5d-a94a-63e664d75b4b",
   "metadata": {},
   "source": [
    "Approximately solving the closest vector problem using Babai's rounding algorithm"
   ]
  },
  {
   "cell_type": "code",
   "execution_count": 79,
   "id": "c3f8c523-114c-46b9-968d-4eb31615de4b",
   "metadata": {},
   "outputs": [
    {
     "name": "stdout",
     "output_type": "stream",
     "text": [
      "5.215361924162119\n"
     ]
    },
    {
     "data": {
      "text/latex": [
       "$\\displaystyle\\begin{pmatrix}\n",
       "0\\\\\n",
       "0\\\\\n",
       "\\end{pmatrix}$"
      ],
      "text/plain": [
       "[ 0 ]\n",
       "[ 0 ]"
      ]
     },
     "execution_count": 79,
     "metadata": {},
     "output_type": "execute_result"
    }
   ],
   "source": [
    "from kryptools import babai_round_cvp\n",
    "\n",
    "V = Matrix([[5, 8], [0, 1]])\n",
    "x = Matrix([5.2, 0.4])\n",
    "\n",
    "a = babai_round_cvp(x, V)\n",
    "print((a - x).norm())\n",
    "a"
   ]
  },
  {
   "cell_type": "markdown",
   "id": "66d34123-a4d4-42b1-8798-76469c339fdf",
   "metadata": {},
   "source": [
    "Using Lagrange-Gauß reduction gives a better solution"
   ]
  },
  {
   "cell_type": "code",
   "execution_count": 80,
   "id": "b8ba76ae-092c-4f12-9a05-0b33fd54ebb2",
   "metadata": {},
   "outputs": [
    {
     "name": "stdout",
     "output_type": "stream",
     "text": [
      "0.44721359549995804\n"
     ]
    },
    {
     "data": {
      "text/latex": [
       "$\\displaystyle\\begin{pmatrix}\n",
       "5\\\\\n",
       "0\\\\\n",
       "\\end{pmatrix}$"
      ],
      "text/plain": [
       "[ 5 ]\n",
       "[ 0 ]"
      ]
     },
     "execution_count": 80,
     "metadata": {},
     "output_type": "execute_result"
    }
   ],
   "source": [
    "from kryptools import lagrange_lr\n",
    "\n",
    "U = lagrange_lr(V)\n",
    "a = babai_round_cvp(x, U)\n",
    "print((a - x).norm())\n",
    "a"
   ]
  },
  {
   "cell_type": "markdown",
   "id": "b0074831-5da4-43f3-91af-5cf191713d31",
   "metadata": {},
   "source": [
    "Alternatively we can use Babai's cosest plane algorithm"
   ]
  },
  {
   "cell_type": "code",
   "execution_count": 81,
   "id": "bd6ea8c7-85ba-4b8d-97d6-f3176e9a22d4",
   "metadata": {},
   "outputs": [
    {
     "name": "stdout",
     "output_type": "stream",
     "text": [
      "0.44721359549995804\n"
     ]
    },
    {
     "data": {
      "text/latex": [
       "$\\displaystyle\\begin{pmatrix}\n",
       "5\\\\\n",
       "0\\\\\n",
       "\\end{pmatrix}$"
      ],
      "text/plain": [
       "[ 5 ]\n",
       "[ 0 ]"
      ]
     },
     "execution_count": 81,
     "metadata": {},
     "output_type": "execute_result"
    }
   ],
   "source": [
    "from kryptools import babai_plane_cvp\n",
    "\n",
    "V = Matrix([[5, 8], [0, 1]])\n",
    "\n",
    "a = babai_plane_cvp(x, V)\n",
    "print((a - x).norm())\n",
    "a"
   ]
  },
  {
   "cell_type": "markdown",
   "id": "e79e180e-d7d2-43fc-a9d2-1753f80caf5e",
   "metadata": {},
   "source": [
    "[LLL reduction](https://en.wikipedia.org/wiki/Lenstra%E2%80%93Lenstra%E2%80%93Lov%C3%A1sz_lattice_basis_reduction_algorithm)"
   ]
  },
  {
   "cell_type": "code",
   "execution_count": 82,
   "id": "ee41707c-8d92-468d-9a94-18b6bd44053c",
   "metadata": {},
   "outputs": [
    {
     "data": {
      "text/latex": [
       "$\\displaystyle\\begin{pmatrix}\n",
       "0 & 1 & 2\\\\\n",
       "-1 & 0 & 2\\\\\n",
       "1 & -1 & 1\\\\\n",
       "\\end{pmatrix}$"
      ],
      "text/plain": [
       "[  0,  1, 2 ]\n",
       "[ -1,  0, 2 ]\n",
       "[  1, -1, 1 ]"
      ]
     },
     "execution_count": 82,
     "metadata": {},
     "output_type": "execute_result"
    }
   ],
   "source": [
    "from kryptools import lll\n",
    "\n",
    "V = Matrix([[1, 1, 2], [1, 0, -2], [3, 4, 5]])\n",
    "U = lll(V)\n",
    "U"
   ]
  },
  {
   "cell_type": "markdown",
   "id": "e88ff7af-c3aa-4fdc-a83f-2f535df0b72c",
   "metadata": {},
   "source": [
    "To get a pseudorandom [unimodular matrix](https://en.wikipedia.org/wiki/Unimodular_matrix) use"
   ]
  },
  {
   "cell_type": "code",
   "execution_count": 83,
   "id": "694c25e5-d01f-4acf-ab57-69bffb0fb9a8",
   "metadata": {},
   "outputs": [
    {
     "data": {
      "text/latex": [
       "$\\displaystyle\\begin{pmatrix}\n",
       "1 & -8 & -9\\\\\n",
       "0 & 3 & 4\\\\\n",
       "4 & 2 & 9\\\\\n",
       "\\end{pmatrix}$"
      ],
      "text/plain": [
       "[ 1, -8, -9 ]\n",
       "[ 0,  3,  4 ]\n",
       "[ 4,  2,  9 ]"
      ]
     },
     "execution_count": 83,
     "metadata": {},
     "output_type": "execute_result"
    }
   ],
   "source": [
    "from kryptools import random_unimodular_matrix\n",
    "\n",
    "random_unimodular_matrix(3, max_val=9)"
   ]
  },
  {
   "cell_type": "markdown",
   "id": "0d523353-9d2f-4ffe-b6f0-5dedde19f8f7",
   "metadata": {},
   "source": [
    "### Showcase: GGH cryptosystem"
   ]
  },
  {
   "cell_type": "markdown",
   "id": "92021380-9fac-40f8-9917-f1e79b134645",
   "metadata": {},
   "source": [
    "For example, to generate a key pair for the [GGH cryptosystem](https://en.wikipedia.org/wiki/GGH_encryption_scheme) we start with a nearly orthogonal matrix"
   ]
  },
  {
   "cell_type": "code",
   "execution_count": 84,
   "id": "df0886b4-54d8-4fe7-a665-e9b908c41060",
   "metadata": {},
   "outputs": [
    {
     "data": {
      "text/latex": [
       "$\\displaystyle\\begin{pmatrix}\n",
       "798 & 94 & 7 & -90\\\\\n",
       "-34 & 830 & 24 & 3\\\\\n",
       "100 & -23 & 822 & -9\\\\\n",
       "49 & -45 & 29 & 735\\\\\n",
       "\\end{pmatrix}$"
      ],
      "text/plain": [
       "[ 798,  94,   7, -90 ]\n",
       "[ -34, 830,  24,   3 ]\n",
       "[ 100, -23, 822,  -9 ]\n",
       "[  49, -45,  29, 735 ]"
      ]
     },
     "execution_count": 84,
     "metadata": {},
     "output_type": "execute_result"
    }
   ],
   "source": [
    "from random import randint, seed\n",
    "\n",
    "from kryptools import eye\n",
    "\n",
    "seed(0)\n",
    "\n",
    "n = 4\n",
    "M = 100\n",
    "U = 2 * M * n * eye(n) + Matrix([[randint(-M, M) for i in range(n)] for j in range(n)])\n",
    "U"
   ]
  },
  {
   "cell_type": "markdown",
   "id": "47b66fa3-262c-4e6d-ab65-5613bdf62944",
   "metadata": {},
   "source": [
    "which has a good Hadamrad ratio"
   ]
  },
  {
   "cell_type": "code",
   "execution_count": 85,
   "id": "6ff2fa77-eebd-4f1c-a894-f3a9c294bfc7",
   "metadata": {},
   "outputs": [
    {
     "data": {
      "text/plain": [
       "0.9962449639096419"
      ]
     },
     "execution_count": 85,
     "metadata": {},
     "output_type": "execute_result"
    }
   ],
   "source": [
    "hadamard_ratio(U)"
   ]
  },
  {
   "cell_type": "markdown",
   "id": "47c0dc33-254d-44ac-92ed-55c36a1a529f",
   "metadata": {},
   "source": [
    "Babai's closest pane algorithm will be able to solve the CVP provided the (sup norm of the) error is smaller than:"
   ]
  },
  {
   "cell_type": "code",
   "execution_count": 86,
   "id": "e9009a78-4e62-40a8-b231-987bd4e42a86",
   "metadata": {},
   "outputs": [
    {
     "data": {
      "text/plain": [
       "367.329164515002"
      ]
     },
     "execution_count": 86,
     "metadata": {},
     "output_type": "execute_result"
    }
   ],
   "source": [
    "from math import floor, inf\n",
    "\n",
    "from kryptools import babai_plane_bnd\n",
    "\n",
    "babai_plane_bnd(U, inf)"
   ]
  },
  {
   "cell_type": "markdown",
   "id": "b610d566-3b99-4271-9c50-ac9a8e618a10",
   "metadata": {},
   "source": [
    "To obtain the public key we muliply $U$ with a pseudorandom unimodular matrix:"
   ]
  },
  {
   "cell_type": "code",
   "execution_count": 87,
   "id": "5a07021d-93e6-41fe-8a66-523c0faad0f9",
   "metadata": {},
   "outputs": [
    {
     "data": {
      "text/latex": [
       "$\\displaystyle\\begin{pmatrix}\n",
       "-1100279 & 2579493 & -2669106 & 2347653\\\\\n",
       "-523004 & 1175996 & -1260068 & 1070213\\\\\n",
       "-1524616 & 3537925 & -3692275 & 3219934\\\\\n",
       "823300 & -1867613 & 1986482 & -1699706\\\\\n",
       "\\end{pmatrix}$"
      ],
      "text/plain": [
       "[ -1100279,  2579493, -2669106,  2347653 ]\n",
       "[  -523004,  1175996, -1260068,  1070213 ]\n",
       "[ -1524616,  3537925, -3692275,  3219934 ]\n",
       "[   823300, -1867613,  1986482, -1699706 ]"
      ]
     },
     "execution_count": 87,
     "metadata": {},
     "output_type": "execute_result"
    }
   ],
   "source": [
    "V = U * random_unimodular_matrix(n)\n",
    "V"
   ]
  },
  {
   "cell_type": "markdown",
   "id": "d9b893f6-4deb-4077-a9c2-f11e259951bc",
   "metadata": {},
   "source": [
    "which results in a small Hadamard ratio"
   ]
  },
  {
   "cell_type": "code",
   "execution_count": 88,
   "id": "7ef33518-5192-4603-8df3-21f4524aaf76",
   "metadata": {},
   "outputs": [
    {
     "data": {
      "text/plain": [
       "0.0002031966189726793"
      ]
     },
     "execution_count": 88,
     "metadata": {},
     "output_type": "execute_result"
    }
   ],
   "source": [
    "hadamard_ratio(V)"
   ]
  },
  {
   "cell_type": "markdown",
   "id": "b45ad469-7d09-42ee-b1f5-2faa95b5b83b",
   "metadata": {},
   "source": [
    "In this case Babai's closest pane algorithm will be able to solve the CVP provided the (sup norm of the) error is smaller than:"
   ]
  },
  {
   "cell_type": "code",
   "execution_count": 89,
   "id": "fbef8bf6-10be-4aea-b672-ddadfa0b705f",
   "metadata": {},
   "outputs": [
    {
     "data": {
      "text/plain": [
       "0.015520618275460585"
      ]
     },
     "execution_count": 89,
     "metadata": {},
     "output_type": "execute_result"
    }
   ],
   "source": [
    "babai_plane_bnd(V, inf)"
   ]
  },
  {
   "cell_type": "markdown",
   "id": "0ea4ba0c-ba16-4a07-9b89-057f30a34cfa",
   "metadata": {},
   "source": [
    "Now we can regarad the message `FAD!` as a vector of the corresponding ASCII codes $x$ and encrypt the corresponding vector by perturbing the associated lattice vector with a random error $r$:"
   ]
  },
  {
   "cell_type": "code",
   "execution_count": 90,
   "id": "7a652c7d-9726-47cc-b2a6-ad22c4dec5f4",
   "metadata": {},
   "outputs": [
    {
     "data": {
      "text/latex": [
       "$\\displaystyle\\begin{pmatrix}\n",
       "-13379202\\\\\n",
       "-10538159\\\\\n",
       "-21574537\\\\\n",
       "15226425\\\\\n",
       "\\end{pmatrix}$"
      ],
      "text/plain": [
       "[ -13379202 ]\n",
       "[ -10538159 ]\n",
       "[ -21574537 ]\n",
       "[  15226425 ]"
      ]
     },
     "execution_count": 90,
     "metadata": {},
     "output_type": "execute_result"
    }
   ],
   "source": [
    "from math import floor\n",
    "\n",
    "r_max = floor(babai_plane_bnd(U, inf))\n",
    "msg = b\"FAD!\"\n",
    "assert len(msg) == n\n",
    "\n",
    "x = Matrix([x for x in msg])\n",
    "r = Matrix([randint(-r_max, r_max) for _ in range(n)])\n",
    "y = V * x + r\n",
    "y"
   ]
  },
  {
   "cell_type": "markdown",
   "id": "fd82eceb-48ee-44d6-ae8b-c0beddfaa9b1",
   "metadata": {},
   "source": [
    "Using the private basis $U$ we can decrypt (we change from integers to `Fraction` for the matrix inversion to avoid rounding errors)"
   ]
  },
  {
   "cell_type": "code",
   "execution_count": 91,
   "id": "4e9e3dfb-564c-4a59-9d71-9e4be59b4cac",
   "metadata": {},
   "outputs": [
    {
     "data": {
      "text/plain": [
       "True"
      ]
     },
     "execution_count": 91,
     "metadata": {},
     "output_type": "execute_result"
    }
   ],
   "source": [
    "V.map(Fraction)\n",
    "V.inv() * babai_round_cvp(y, U) == x"
   ]
  },
  {
   "cell_type": "markdown",
   "id": "72968ffa-2920-4663-8abf-aa9f66e1a3fa",
   "metadata": {},
   "source": [
    "Using the public basis $V$ decryption fails"
   ]
  },
  {
   "cell_type": "code",
   "execution_count": 92,
   "id": "b81fe34e-3337-484c-900d-21fa9d7a2945",
   "metadata": {},
   "outputs": [
    {
     "data": {
      "text/plain": [
       "False"
      ]
     },
     "execution_count": 92,
     "metadata": {},
     "output_type": "execute_result"
    }
   ],
   "source": [
    "V.map(Fraction)\n",
    "V.inv() * babai_round_cvp(y, V) == x"
   ]
  },
  {
   "cell_type": "markdown",
   "id": "ddcafad9-c0ca-45b8-a610-a87cf7d1abd5",
   "metadata": {},
   "source": [
    "Since our parameters are too small, the system can be broken using LLL reduction:"
   ]
  },
  {
   "cell_type": "code",
   "execution_count": 93,
   "id": "a871a91f-fff2-4645-b868-c31972228de2",
   "metadata": {},
   "outputs": [
    {
     "data": {
      "text/plain": [
       "True"
      ]
     },
     "execution_count": 93,
     "metadata": {},
     "output_type": "execute_result"
    }
   ],
   "source": [
    "UU = lll(V)\n",
    "V.inv() * babai_plane_cvp(y, UU) == x"
   ]
  },
  {
   "cell_type": "markdown",
   "id": "c8427b8b-db49-4fa1-ba07-63382746bcca",
   "metadata": {},
   "source": [
    "## Polynomials"
   ]
  },
  {
   "cell_type": "markdown",
   "id": "536b50bf-6c66-4253-b525-3938da8d1747",
   "metadata": {},
   "source": [
    "A basic class for [polynomials](https://en.wikipedia.org/wiki/Polynomial), entered as a list of coefficients"
   ]
  },
  {
   "cell_type": "code",
   "execution_count": 94,
   "id": "d3c69787-da17-4cd3-b282-a68ee4d177e6",
   "metadata": {},
   "outputs": [
    {
     "data": {
      "text/plain": [
       "(2 x^2 + 2, 4 x^3 + 3 x^2 + 2 x + 1)"
      ]
     },
     "execution_count": 94,
     "metadata": {},
     "output_type": "execute_result"
    }
   ],
   "source": [
    "from kryptools import Poly\n",
    "\n",
    "p = Poly([2, 0, 2])\n",
    "q = Poly([1, 2, 3, 4])\n",
    "\n",
    "p, q"
   ]
  },
  {
   "cell_type": "markdown",
   "id": "71a31088-8304-4ae1-b660-36a587e757a2",
   "metadata": {},
   "source": [
    "The usual arithmetic operations work as expected"
   ]
  },
  {
   "cell_type": "code",
   "execution_count": 95,
   "id": "93326765-bb08-4c15-9d1a-97b1440ba986",
   "metadata": {},
   "outputs": [
    {
     "data": {
      "text/latex": [
       "$8 x^{5} + 6 x^{4} + 12 x^{3} + 8 x^{2} + 4 x + 2$"
      ],
      "text/plain": [
       "8 x^5 + 6 x^4 + 12 x^3 + 8 x^2 + 4 x + 2"
      ]
     },
     "execution_count": 95,
     "metadata": {},
     "output_type": "execute_result"
    }
   ],
   "source": [
    "p * q"
   ]
  },
  {
   "cell_type": "markdown",
   "id": "40f92da0-222e-49e4-87c3-4da3f9f163fa",
   "metadata": {},
   "source": [
    "[Polynomial division](https://en.wikipedia.org/wiki/Polynomial_long_division) with remainder"
   ]
  },
  {
   "cell_type": "code",
   "execution_count": 96,
   "id": "81d433fc-6dcd-42a7-97ef-362913bf99c0",
   "metadata": {},
   "outputs": [
    {
     "data": {
      "text/plain": [
       "(2.0 x + 1.5, -2.0 x - 2.0)"
      ]
     },
     "execution_count": 96,
     "metadata": {},
     "output_type": "execute_result"
    }
   ],
   "source": [
    "d, m = q.divmod(p)\n",
    "\n",
    "assert d * p + m == q\n",
    "d, m"
   ]
  },
  {
   "cell_type": "markdown",
   "id": "33121f66-d268-43c6-95c3-30c74ac3c7e5",
   "metadata": {},
   "source": [
    "Alternatively"
   ]
  },
  {
   "cell_type": "code",
   "execution_count": 97,
   "id": "f1e28f9a-0366-44a7-9649-d4d2b74a9280",
   "metadata": {},
   "outputs": [
    {
     "data": {
      "text/plain": [
       "(2.0 x + 1.5, -2.0 x - 2.0)"
      ]
     },
     "execution_count": 97,
     "metadata": {},
     "output_type": "execute_result"
    }
   ],
   "source": [
    "q // p, q % p"
   ]
  },
  {
   "cell_type": "markdown",
   "id": "a6f97cc8-9126-4020-a686-6b48cc0b85ed",
   "metadata": {},
   "source": [
    "If you prefer a different ordering of the coefficients, you can use"
   ]
  },
  {
   "cell_type": "code",
   "execution_count": 98,
   "id": "1377b01d-eded-4d0b-892c-75740cb3e8a8",
   "metadata": {},
   "outputs": [
    {
     "data": {
      "text/latex": [
       "$2 + 2 x^{2}$"
      ],
      "text/plain": [
       "2 + 2 x^2"
      ]
     },
     "execution_count": 98,
     "metadata": {},
     "output_type": "execute_result"
    }
   ],
   "source": [
    "Poly.print_reversed = False\n",
    "p"
   ]
  },
  {
   "cell_type": "code",
   "execution_count": 99,
   "id": "424c40e8-564e-4c64-b0f1-5122f6c7a41e",
   "metadata": {},
   "outputs": [],
   "source": [
    "Poly.print_reversed = True"
   ]
  },
  {
   "cell_type": "markdown",
   "id": "ffe59238-3093-4aec-8915-9f85dd2217c7",
   "metadata": {},
   "source": [
    "To avoid floats, we can work with fractions. Either by using `ring=Fraction` during creation or by applying `Fraction` to all coefficients (in place):"
   ]
  },
  {
   "cell_type": "code",
   "execution_count": 100,
   "id": "f8094d46-9ca8-46dc-9be3-96eb363b3ade",
   "metadata": {},
   "outputs": [
    {
     "data": {
      "text/plain": [
       "(2 x + 3/2, -2 x - 2)"
      ]
     },
     "execution_count": 100,
     "metadata": {},
     "output_type": "execute_result"
    }
   ],
   "source": [
    "p.map(Fraction)\n",
    "q.map(Fraction)\n",
    "\n",
    "q.divmod(p)"
   ]
  },
  {
   "cell_type": "markdown",
   "id": "48449ae6-1b5d-4409-878f-7392accaa9e8",
   "metadata": {},
   "source": [
    "If you want the reduction of $q$ modulo $p$ to be made in place use:"
   ]
  },
  {
   "cell_type": "code",
   "execution_count": 101,
   "id": "c121753b-dc2c-4000-9f14-b71b78f65d60",
   "metadata": {},
   "outputs": [
    {
     "data": {
      "text/latex": [
       "$-2 x - 2$"
      ],
      "text/plain": [
       "-2 x - 2"
      ]
     },
     "execution_count": 101,
     "metadata": {},
     "output_type": "execute_result"
    }
   ],
   "source": [
    "q.mod(p)\n",
    "q"
   ]
  },
  {
   "cell_type": "markdown",
   "id": "3c019053-8890-4aa2-ab79-60eee3727de0",
   "metadata": {},
   "source": [
    "The maximum of the absolute value of all coefficients can be obtained with"
   ]
  },
  {
   "cell_type": "code",
   "execution_count": 102,
   "id": "f26253d7-43fd-4242-96ca-5032a309e48e",
   "metadata": {},
   "outputs": [
    {
     "data": {
      "text/plain": [
       "2"
      ]
     },
     "execution_count": 102,
     "metadata": {},
     "output_type": "execute_result"
    }
   ],
   "source": [
    "q.max()"
   ]
  },
  {
   "cell_type": "markdown",
   "id": "b8aaf7d3-ee93-4367-a110-2f2ecb1204e3",
   "metadata": {},
   "source": [
    "and the sum of the absolute value of all coefficients with"
   ]
  },
  {
   "cell_type": "code",
   "execution_count": 103,
   "id": "1b33195a-0c3c-46c4-94b9-94c9ca0dee0e",
   "metadata": {},
   "outputs": [
    {
     "data": {
      "text/plain": [
       "4"
      ]
     },
     "execution_count": 103,
     "metadata": {},
     "output_type": "execute_result"
    }
   ],
   "source": [
    "q.sum()"
   ]
  },
  {
   "cell_type": "markdown",
   "id": "09aad163-7b1a-4804-b556-d4bb65630355",
   "metadata": {},
   "source": [
    "### Showcase: AES"
   ]
  },
  {
   "cell_type": "markdown",
   "id": "292c9b1a-8397-44e0-aa89-0d8b3ecd35cf",
   "metadata": {},
   "source": [
    "Computations in a polynomial ring modulo a given polynomial, for example the [AES](https://en.wikipedia.org/wiki/Advanced_Encryption_Standard) Polynomial $x^8+x^4+x^3+x+1$, can be done as follows:"
   ]
  },
  {
   "cell_type": "code",
   "execution_count": 104,
   "id": "cf284301-bb0d-44dc-b3cf-51ef187b01ad",
   "metadata": {},
   "outputs": [
    {
     "data": {
      "text/latex": [
       "$x^{4} + x^{2} + x + 1$"
      ],
      "text/plain": [
       "x^4 + x^2 + x + 1"
      ]
     },
     "execution_count": 104,
     "metadata": {},
     "output_type": "execute_result"
    }
   ],
   "source": [
    "from kryptools import Poly, Zmod\n",
    "\n",
    "Z_2 = Zmod(2)\n",
    "aes = [1, 1, 0, 1, 1, 0, 0, 0, 1]  # 1 + x + x^3 + x^4 + x^8\n",
    "\n",
    "\n",
    "def PolyAES(c: list) -> \"Poly\":\n",
    "    return Poly(c, ring=Z_2, modulus=aes)\n",
    "\n",
    "\n",
    "p = PolyAES([1, 0, 1])\n",
    "q = PolyAES([0, 1, 0, 0, 1, 1, 1, 1])\n",
    "\n",
    "p * q"
   ]
  },
  {
   "cell_type": "markdown",
   "id": "75302c8e-b892-42bc-adfa-ce4ac0dca594",
   "metadata": {},
   "source": [
    "For AES, bytes are identified with polynomials (in the Galois field $\\mathbb{Z}_2[x]_{x^8+x^4+x+1}$) by identifying the individual bits with the coefficients of the polynomial. The nonlinear operation used in AES is given by computing the inverse in the above field."
   ]
  },
  {
   "cell_type": "code",
   "execution_count": 105,
   "id": "85ce3cb2-faf5-4a75-b624-dfff2b2ce255",
   "metadata": {},
   "outputs": [
    {
     "data": {
      "text/plain": [
       "141"
      ]
     },
     "execution_count": 105,
     "metadata": {},
     "output_type": "execute_result"
    }
   ],
   "source": [
    "def byte2poly(x: int, n: int = 8) -> \"Poly\":\n",
    "    \"Convert an integer to a polynomial.\"\n",
    "    return PolyAES(list(reversed([int(d) for d in str(format(x, \"0\" + str(n) + \"b\"))])))\n",
    "\n",
    "\n",
    "def poly2byte(p: \"Poly\") -> int:\n",
    "    \"Convert a polynomial to the corresponding integer.\"\n",
    "    s = 0\n",
    "    for i in reversed(p.coeff):\n",
    "        s = s * 2 + int(i)\n",
    "    return s\n",
    "\n",
    "\n",
    "poly2byte(byte2poly(2).inv())"
   ]
  },
  {
   "cell_type": "markdown",
   "id": "bd299669-29aa-4327-aeb5-9a560d81725b",
   "metadata": {},
   "source": [
    "For example, a substitution table for the [AES S-box](https://en.wikipedia.org/wiki/Rijndael_S-box) can be computed as follows:"
   ]
  },
  {
   "cell_type": "code",
   "execution_count": 106,
   "id": "6abad578-adfe-4389-b4dc-865494102c6a",
   "metadata": {},
   "outputs": [
    {
     "name": "stdout",
     "output_type": "stream",
     "text": [
      "[ 0x63, 0x7c, 0x77, 0x7b, 0xf2, 0x6b, 0x6f, 0xc5, 0x30,  0x1, 0x67, 0x2b, 0xfe, 0xd7, 0xab, 0x76 ]\n",
      "[ 0xca, 0x82, 0xc9, 0x7d, 0xfa, 0x59, 0x47, 0xf0, 0xad, 0xd4, 0xa2, 0xaf, 0x9c, 0xa4, 0x72, 0xc0 ]\n",
      "[ 0xb7, 0xfd, 0x93, 0x26, 0x36, 0x3f, 0xf7, 0xcc, 0x34, 0xa5, 0xe5, 0xf1, 0x71, 0xd8, 0x31, 0x15 ]\n",
      "[  0x4, 0xc7, 0x23, 0xc3, 0x18, 0x96,  0x5, 0x9a,  0x7, 0x12, 0x80, 0xe2, 0xeb, 0x27, 0xb2, 0x75 ]\n",
      "[  0x9, 0x83, 0x2c, 0x1a, 0x1b, 0x6e, 0x5a, 0xa0, 0x52, 0x3b, 0xd6, 0xb3, 0x29, 0xe3, 0x2f, 0x84 ]\n",
      "[ 0x53, 0xd1,  0x0, 0xed, 0x20, 0xfc, 0xb1, 0x5b, 0x6a, 0xcb, 0xbe, 0x39, 0x4a, 0x4c, 0x58, 0xcf ]\n",
      "[ 0xd0, 0xef, 0xaa, 0xfb, 0x43, 0x4d, 0x33, 0x85, 0x45, 0xf9,  0x2, 0x7f, 0x50, 0x3c, 0x9f, 0xa8 ]\n",
      "[ 0x51, 0xa3, 0x40, 0x8f, 0x92, 0x9d, 0x38, 0xf5, 0xbc, 0xb6, 0xda, 0x21, 0x10, 0xff, 0xf3, 0xd2 ]\n",
      "[ 0xcd,  0xc, 0x13, 0xec, 0x5f, 0x97, 0x44, 0x17, 0xc4, 0xa7, 0x7e, 0x3d, 0x64, 0x5d, 0x19, 0x73 ]\n",
      "[ 0x60, 0x81, 0x4f, 0xdc, 0x22, 0x2a, 0x90, 0x88, 0x46, 0xee, 0xb8, 0x14, 0xde, 0x5e,  0xb, 0xdb ]\n",
      "[ 0xe0, 0x32, 0x3a,  0xa, 0x49,  0x6, 0x24, 0x5c, 0xc2, 0xd3, 0xac, 0x62, 0x91, 0x95, 0xe4, 0x79 ]\n",
      "[ 0xe7, 0xc8, 0x37, 0x6d, 0x8d, 0xd5, 0x4e, 0xa9, 0x6c, 0x56, 0xf4, 0xea, 0x65, 0x7a, 0xae,  0x8 ]\n",
      "[ 0xba, 0x78, 0x25, 0x2e, 0x1c, 0xa6, 0xb4, 0xc6, 0xe8, 0xdd, 0x74, 0x1f, 0x4b, 0xbd, 0x8b, 0x8a ]\n",
      "[ 0x70, 0x3e, 0xb5, 0x66, 0x48,  0x3, 0xf6,  0xe, 0x61, 0x35, 0x57, 0xb9, 0x86, 0xc1, 0x1d, 0x9e ]\n",
      "[ 0xe1, 0xf8, 0x98, 0x11, 0x69, 0xd9, 0x8e, 0x94, 0x9b, 0x1e, 0x87, 0xe9, 0xce, 0x55, 0x28, 0xdf ]\n",
      "[ 0x8c, 0xa1, 0x89,  0xd, 0xbf, 0xe6, 0x42, 0x68, 0x41, 0x99, 0x2d,  0xf, 0xb0, 0x54, 0xbb, 0x16 ]\n"
     ]
    }
   ],
   "source": [
    "from kryptools import Matrix, zeros\n",
    "\n",
    "\n",
    "def rotate(l: list, n: int) -> list:\n",
    "    \"Rotate a list cyclically n places to the left.\"\n",
    "    n %= len(l)\n",
    "    return l[n:] + l[:n]\n",
    "\n",
    "\n",
    "A = Matrix([rotate([1, 0, 0, 0, 1, 1, 1, 1], -n) for n in range(8)])\n",
    "b = Matrix([1, 1, 0, 0, 0, 1, 1, 0])\n",
    "\n",
    "\n",
    "def aes_sbox(x: int | Poly) -> int:\n",
    "    \"AES S-box.\"\n",
    "    if isinstance(x, int):\n",
    "        x = byte2poly(x)\n",
    "    if x:\n",
    "        res = x.inv().coeff\n",
    "        res += [0] * (8 - len(res))  # pad the result with zeros\n",
    "    else:\n",
    "        res = [0] * 8\n",
    "    res = A * Matrix(res) + b\n",
    "    s = 0\n",
    "    for i in reversed(res):\n",
    "        s = s * 2 + int(i)\n",
    "    return s\n",
    "\n",
    "\n",
    "print(Matrix(\n",
    "    [[hex(aes_sbox(i + 16 * j)) for i in range(16)] for j in range(16)]\n",
    "))  # Matrix(...) is just to get a nicer output"
   ]
  },
  {
   "cell_type": "markdown",
   "id": "6371c7d4-4457-4f6b-a03a-de76dd493efe",
   "metadata": {},
   "source": [
    "Alternatively you can use the built-in Galois field:"
   ]
  },
  {
   "cell_type": "code",
   "execution_count": 107,
   "id": "152039d3-da7a-4351-8440-1624b610fa6b",
   "metadata": {},
   "outputs": [],
   "source": [
    "from kryptools import GF2_aes\n",
    "\n",
    "x = 3\n",
    "assert int(GF2_aes(x) ** -1) == poly2byte(byte2poly(x).inv())\n",
    "assert int(GF2_aes(x).sbox()) == aes_sbox(x)"
   ]
  },
  {
   "cell_type": "markdown",
   "id": "8a4190a9-addf-4384-a9db-a9cbb41cac5d",
   "metadata": {},
   "source": [
    "The [MixColumn](https://en.wikipedia.org/wiki/Rijndael_MixColumns) operation can be expressed as polynomial multiplication of polynomials with coefficients in $\\mathrm{GF}(8)$ modulo $x^4+1$. Each column of the state matrix is regarded as a polynomial and multiplied with $3x^3+x^2+x+2$. The inverse is given by"
   ]
  },
  {
   "cell_type": "code",
   "execution_count": 108,
   "id": "96c83161-a176-4035-9461-157d69914bb1",
   "metadata": {},
   "outputs": [
    {
     "data": {
      "text/latex": [
       "$8 x^{3} + 8 x^{2} + 2 x + 6$"
      ],
      "text/plain": [
       "8 x^3 + 8 x^2 + 2 x + 6"
      ]
     },
     "execution_count": 108,
     "metadata": {},
     "output_type": "execute_result"
    }
   ],
   "source": [
    "Poly([2, 1, 1, 3], modulus=[1, 0, 0, 0, 1], ring=gf).inv()"
   ]
  },
  {
   "cell_type": "markdown",
   "id": "14911300-989c-4121-8112-39b2f07d4bbe",
   "metadata": {},
   "source": [
    "To verify that a given poynomial is irreducible over a Galois field we need the gcd"
   ]
  },
  {
   "cell_type": "code",
   "execution_count": 109,
   "id": "a7828b13-dba0-4e17-b1ee-bda0bb979f97",
   "metadata": {},
   "outputs": [
    {
     "data": {
      "text/latex": [
       "$- x + 1$"
      ],
      "text/plain": [
       "- x + 1"
      ]
     },
     "execution_count": 109,
     "metadata": {},
     "output_type": "execute_result"
    }
   ],
   "source": [
    "a = Poly([1, -2, 0, 1])\n",
    "b = Poly([-1, 0, 1])\n",
    "a.gcd(b)"
   ]
  },
  {
   "cell_type": "markdown",
   "id": "7417b0cc-7b49-4e99-8a26-a087e530aeef",
   "metadata": {},
   "source": [
    "and a variant of [Rabin's irreducibility test](https://en.wikipedia.org/wiki/Factorization_of_polynomials_over_finite_fields#Rabin.27s_test_of_irreducibility) availble as `.rabin_test()`."
   ]
  },
  {
   "cell_type": "markdown",
   "id": "ce6e959a-5746-4f0b-8fe5-b78cd8f65948",
   "metadata": {},
   "source": [
    "Now we can show that the AES polynomial $x^8+x^4+x^3+x+1$ is irreducible:"
   ]
  },
  {
   "cell_type": "code",
   "execution_count": 110,
   "id": "728c317c-4f71-4a23-bdad-2a0f8f43c60d",
   "metadata": {},
   "outputs": [
    {
     "data": {
      "text/plain": [
       "True"
      ]
     },
     "execution_count": 110,
     "metadata": {},
     "output_type": "execute_result"
    }
   ],
   "source": [
    "a = Poly(aes, ring=Z_2)\n",
    "\n",
    "a.rabin_test()"
   ]
  },
  {
   "cell_type": "markdown",
   "id": "ff664b0a-66b7-4786-a892-4bf353cac0fd",
   "metadata": {},
   "source": [
    "Similarly for the Ghash polynomial $x^{128} + x^7 + x^2 + x + 1$:"
   ]
  },
  {
   "cell_type": "code",
   "execution_count": 111,
   "id": "2993ae6e-98af-4146-b071-209e7aeabf16",
   "metadata": {},
   "outputs": [
    {
     "data": {
      "text/plain": [
       "True"
      ]
     },
     "execution_count": 111,
     "metadata": {},
     "output_type": "execute_result"
    }
   ],
   "source": [
    "a = Poly([1, 1, 1, 0, 0, 0, 0, 1] + 120 * [0] + [1], ring=Z_2)\n",
    "\n",
    "a.rabin_test()"
   ]
  },
  {
   "cell_type": "markdown",
   "id": "86b80f83-6cce-4b2a-8970-d4db46c829ad",
   "metadata": {},
   "source": [
    "Note that the number of irreducible monic polynomials of degree $k$ in the field $\\mathbb{Z}_p$ is given by the [necklace polynomial](https://en.wikipedia.org/wiki/Necklace_polynomial).\n",
    "For $\\mathbb{Z}_2$ there are for example $30$ irreducible monic polynomials of degree $8$."
   ]
  },
  {
   "cell_type": "code",
   "execution_count": 112,
   "id": "99fed470-0bbb-4975-a391-c6d755a9a635",
   "metadata": {},
   "outputs": [
    {
     "data": {
      "text/plain": [
       "30"
      ]
     },
     "execution_count": 112,
     "metadata": {},
     "output_type": "execute_result"
    }
   ],
   "source": [
    "from kryptools import divisors, moebius_mu\n",
    "\n",
    "\n",
    "def M(q: int, k: int) -> int:\n",
    "    \"\"\"Moreau's necklace-counting function.\"\"\"\n",
    "    return sum([moebius_mu(d) * q ** (k // d) for d in divisors(k)]) // k\n",
    "\n",
    "\n",
    "M(2, 8)"
   ]
  },
  {
   "cell_type": "markdown",
   "id": "9269757c-8a33-44d8-b6c0-aedacc76306c",
   "metadata": {},
   "source": [
    "We can list them as follows:"
   ]
  },
  {
   "cell_type": "code",
   "execution_count": 113,
   "id": "284175c0-2153-4d71-9488-c6a902abfde4",
   "metadata": {},
   "outputs": [
    {
     "name": "stdout",
     "output_type": "stream",
     "text": [
      "x^8 + x^4 + x^3 + x + 1\n",
      "x^8 + x^4 + x^3 + x^2 + 1\n",
      "x^8 + x^5 + x^3 + x + 1\n",
      "x^8 + x^5 + x^3 + x^2 + 1\n",
      "x^8 + x^5 + x^4 + x^3 + 1\n",
      "x^8 + x^5 + x^4 + x^3 + x^2 + x + 1\n",
      "x^8 + x^6 + x^3 + x^2 + 1\n",
      "x^8 + x^6 + x^4 + x^3 + x^2 + x + 1\n",
      "x^8 + x^6 + x^5 + x + 1\n",
      "x^8 + x^6 + x^5 + x^2 + 1\n",
      "x^8 + x^6 + x^5 + x^3 + 1\n",
      "x^8 + x^6 + x^5 + x^4 + 1\n",
      "x^8 + x^6 + x^5 + x^4 + x^2 + x + 1\n",
      "x^8 + x^6 + x^5 + x^4 + x^3 + x + 1\n",
      "x^8 + x^7 + x^2 + x + 1\n",
      "x^8 + x^7 + x^3 + x + 1\n",
      "x^8 + x^7 + x^3 + x^2 + 1\n",
      "x^8 + x^7 + x^4 + x^3 + x^2 + x + 1\n",
      "x^8 + x^7 + x^5 + x + 1\n",
      "x^8 + x^7 + x^5 + x^3 + 1\n",
      "x^8 + x^7 + x^5 + x^4 + 1\n",
      "x^8 + x^7 + x^5 + x^4 + x^3 + x^2 + 1\n",
      "x^8 + x^7 + x^6 + x + 1\n",
      "x^8 + x^7 + x^6 + x^3 + x^2 + x + 1\n",
      "x^8 + x^7 + x^6 + x^4 + x^2 + x + 1\n",
      "x^8 + x^7 + x^6 + x^4 + x^3 + x^2 + 1\n",
      "x^8 + x^7 + x^6 + x^5 + x^2 + x + 1\n",
      "x^8 + x^7 + x^6 + x^5 + x^4 + x + 1\n",
      "x^8 + x^7 + x^6 + x^5 + x^4 + x^2 + 1\n",
      "x^8 + x^7 + x^6 + x^5 + x^4 + x^3 + 1\n"
     ]
    }
   ],
   "source": [
    "for i in range(256):\n",
    "    a = Poly(\n",
    "        list(reversed([int(d) for d in str(format(256 + i, \"0\" + str(9) + \"b\"))])),\n",
    "        ring=Z_2,\n",
    "    )\n",
    "    if a.rabin_test():\n",
    "        print(a)"
   ]
  },
  {
   "cell_type": "markdown",
   "id": "15b5e705-0d1a-40b0-b6d4-84c7c037f135",
   "metadata": {},
   "source": [
    "### Showcase: NTRU"
   ]
  },
  {
   "cell_type": "markdown",
   "id": "6bf578d5-e592-4468-8559-630ee5ff72e3",
   "metadata": {},
   "source": [
    "Creating a public/private key pair suitable for a baby version of [NTRU](https://en.wikipedia.org/wiki/NTRU)"
   ]
  },
  {
   "cell_type": "code",
   "execution_count": 114,
   "id": "e6829610-8540-4ff3-9011-fe29a5397ca8",
   "metadata": {},
   "outputs": [
    {
     "name": "stdout",
     "output_type": "stream",
     "text": [
      "Private key:\n",
      "f = x^4 + x^3 - x^2 - x + 1, F_p = - x^2 + 2\n",
      "Public key:\n",
      "(F_q = - x^2 + 2, g = - x^4 + x^3 + x^2 - x)\n",
      "h = 21 x^2 - x + 21\n"
     ]
    }
   ],
   "source": [
    "from copy import copy\n",
    "from random import sample, seed\n",
    "\n",
    "seed(0)\n",
    "\n",
    "\n",
    "def ntru(n: int) -> list:\n",
    "    return [-1] + [0] * (n - 1) + [1]  # x^n - 1\n",
    "\n",
    "\n",
    "def random_ternery_poly(n: int, dp: int, dm: int, modulus: list = None) -> \"Poly\":\n",
    "    res = [0] * n\n",
    "    smpl = sample(range(n), dp + dm)\n",
    "    for i in smpl[:dp]:\n",
    "        res[i] = 1\n",
    "    for i in smpl[dp:]:\n",
    "        res[i] = -1\n",
    "    return Poly(res, modulus=modulus)\n",
    "\n",
    "\n",
    "n = 5\n",
    "q = 41\n",
    "p = 3\n",
    "d = 2\n",
    "\n",
    "gf_q = Zmod(q)\n",
    "gf_p = Zmod(p)\n",
    "\n",
    "\n",
    "found = False\n",
    "while not found:\n",
    "    f = random_ternery_poly(n, 3, 2, modulus=ntru(n))\n",
    "\n",
    "    fp = copy(f)\n",
    "    fp.map(gf_p)\n",
    "    fq = copy(f)\n",
    "    fq.map(gf_q)\n",
    "\n",
    "    try:\n",
    "        Fq = fq.inv()\n",
    "        Fp = fp.inv()\n",
    "        found = True\n",
    "    except:\n",
    "        pass\n",
    "\n",
    "g = random_ternery_poly(n, 2, 2, modulus=ntru(n))\n",
    "h = Fq * g\n",
    "h\n",
    "print(\"Private key:\")\n",
    "print(f\"f = {f}, F_p = {Fp}\")\n",
    "\n",
    "print(\"Public key:\")\n",
    "print(f\"(F_q = {Fp}, g = {g})\")\n",
    "print(f\"h = {h}\")"
   ]
  },
  {
   "cell_type": "markdown",
   "id": "1c412818-aee2-42b8-a4b5-a6e9f3fb44b5",
   "metadata": {},
   "source": [
    "### Showcase: Kyber"
   ]
  },
  {
   "cell_type": "markdown",
   "id": "4f8b5771-bfdc-4f46-bf3c-7aa293812149",
   "metadata": {},
   "source": [
    "Creating a public/private key pair suitable for a baby version of [Kyber](https://en.wikipedia.org/wiki/Kyber)"
   ]
  },
  {
   "cell_type": "code",
   "execution_count": 115,
   "id": "8d4c4b43-e593-407a-92f8-86b653a09c8a",
   "metadata": {},
   "outputs": [
    {
     "name": "stdout",
     "output_type": "stream",
     "text": [
      "Private key:\n"
     ]
    },
    {
     "data": {
      "text/latex": [
       "$\\displaystyle\\begin{pmatrix}\n",
       "x^3 + x + 96\\\\\n",
       "- x^2 + x + 1\\\\\n",
       "\\end{pmatrix}$"
      ],
      "text/plain": [
       "[  x^3 + x + 96 ]\n",
       "[ - x^2 + x + 1 ]"
      ]
     },
     "metadata": {},
     "output_type": "display_data"
    },
    {
     "name": "stdout",
     "output_type": "stream",
     "text": [
      "Public key:\n"
     ]
    },
    {
     "data": {
      "text/latex": [
       "$\\displaystyle\\begin{pmatrix}\n",
       "33 x^3 + 5 x^2 + 53 x + 49 & 38 x^3 + 51 x^2 + 62 x + 65\\\\\n",
       "27 x^3 + 74 x^2 + 45 x + 61 & 17 x^3 + 36 x^2 + 17 x + 64\\\\\n",
       "\\end{pmatrix}$"
      ],
      "text/plain": [
       "[  33 x^3 + 5 x^2 + 53 x + 49, 38 x^3 + 51 x^2 + 62 x + 65 ]\n",
       "[ 27 x^3 + 74 x^2 + 45 x + 61, 17 x^3 + 36 x^2 + 17 x + 64 ]"
      ]
     },
     "metadata": {},
     "output_type": "display_data"
    },
    {
     "data": {
      "text/latex": [
       "$\\displaystyle\\begin{pmatrix}\n",
       "47 x^3 + 63 x^2 + 60 x + 38\\\\\n",
       "47 x^3 + 30 x^2 + 42 x + 47\\\\\n",
       "\\end{pmatrix}$"
      ],
      "text/plain": [
       "[ 47 x^3 + 63 x^2 + 60 x + 38 ]\n",
       "[ 47 x^3 + 30 x^2 + 42 x + 47 ]"
      ]
     },
     "metadata": {},
     "output_type": "display_data"
    }
   ],
   "source": [
    "from IPython.display import display\n",
    "from random import randint, seed\n",
    "\n",
    "try:\n",
    "    from random import binomialvariate\n",
    "except:  # for versions older then 3.12\n",
    "    from random import random\n",
    "\n",
    "    def binomialvariate(n: int = 1, p: float = 0.5) -> int:\n",
    "        \"Binomial random variable\"\n",
    "        return sum(random() < p for i in range(n))\n",
    "\n",
    "\n",
    "seed(0)\n",
    "\n",
    "p = 97\n",
    "n = 4\n",
    "k = 2\n",
    "gf = Zmod(p)\n",
    "\n",
    "\n",
    "def kyber(n: int) -> list:\n",
    "    return [1] + [0] * (n - 1) + [1]  # x^n + 1\n",
    "\n",
    "\n",
    "def PolyKyber(c: list) -> \"Poly\":\n",
    "    return Poly(c, ring=gf, modulus=kyber(n))\n",
    "\n",
    "\n",
    "A = Matrix(\n",
    "    [\n",
    "        [PolyKyber([randint(0, p - 1) for _ in range(n)]) for i in range(k)]\n",
    "        for j in range(k)\n",
    "    ]\n",
    ")\n",
    "s = Matrix([PolyKyber([randint(-1, 1) for _ in range(n)]) for i in range(k)])\n",
    "q = p // (4 * k * n)\n",
    "e = Matrix(\n",
    "    [PolyKyber([binomialvariate(2 * q) - q for _ in range(n)]) for i in range(k)]\n",
    ")\n",
    "b = A * s + e\n",
    "\n",
    "print(\"Private key:\")\n",
    "display(s)\n",
    "\n",
    "print(\"Public key:\")\n",
    "display(A)\n",
    "display(b)"
   ]
  },
  {
   "cell_type": "markdown",
   "id": "5f964e27-c439-49d0-aede-30bc33e64992",
   "metadata": {},
   "source": [
    "Computations can be speed up using the fact that the $x^{256}+1$ can be factored as $\\prod_{j=0}^{128} (x^2 + 17^{2j+1})$ in $\\mathbb{Z}_{3329}$:"
   ]
  },
  {
   "cell_type": "code",
   "execution_count": 116,
   "id": "143fbfa9-37f0-46a5-88e8-77881d3d9092",
   "metadata": {},
   "outputs": [
    {
     "data": {
      "text/latex": [
       "$x^{256} + 1$"
      ],
      "text/plain": [
       "x^256 + 1"
      ]
     },
     "execution_count": 116,
     "metadata": {},
     "output_type": "execute_result"
    }
   ],
   "source": [
    "from math import prod\n",
    "\n",
    "p = 3329\n",
    "gf = Zmod(p)\n",
    "\n",
    "m = [Poly([pow(17, 2 * j + 1, p), 0, 1], ring=gf) for j in range(128)]\n",
    "M = prod(m)\n",
    "M"
   ]
  },
  {
   "cell_type": "markdown",
   "id": "8c39b773-aeaf-4e4a-a991-fc5c66c23a1f",
   "metadata": {},
   "source": [
    "Note that the factors $m_j(x)=x^2 + 17^{2j+1}$ are irreducible since $17$ is not a quadratic residue:"
   ]
  },
  {
   "cell_type": "code",
   "execution_count": 117,
   "id": "703e1f66-401d-40be-a0f9-d3f08ced2b14",
   "metadata": {},
   "outputs": [
    {
     "data": {
      "text/plain": [
       "-1"
      ]
     },
     "execution_count": 117,
     "metadata": {},
     "output_type": "execute_result"
    }
   ],
   "source": [
    "from kryptools import legendre_symbol\n",
    "\n",
    "legendre_symbol(17, p)"
   ]
  },
  {
   "cell_type": "markdown",
   "id": "6728bf12-7e24-449e-88e3-a4dbd95413a8",
   "metadata": {},
   "source": [
    "Hence a given polynomial $a(x)$ can be replaced by its remainders modulo $m_j(x)$ and all computations can be done with the remainders. The resulting polynomial can be constructed from the remainders using the Chinese Remainder Theorem. This is known as Number-Theoretic-Transform in this context."
   ]
  },
  {
   "cell_type": "code",
   "execution_count": 118,
   "id": "84d4ef9e-1484-48c8-b5a8-75a00f178c72",
   "metadata": {},
   "outputs": [
    {
     "data": {
      "text/latex": [
       "$6 x^{5} + 5 x^{4} + 4 x^{3} + 3 x^{2} + 2 x + 1$"
      ],
      "text/plain": [
       "6 x^5 + 5 x^4 + 4 x^3 + 3 x^2 + 2 x + 1"
      ]
     },
     "execution_count": 118,
     "metadata": {},
     "output_type": "execute_result"
    }
   ],
   "source": [
    "def ntt(a: list[\"Poly\"], m: list[\"Poly\"]) -> \"Poly\":\n",
    "    \"\"\"Solve given linear polynomial congruences x % m[j] == a[j] using the Chinese Remainder Theorem.\"\"\"\n",
    "    l = len(a)\n",
    "    assert len(m) == l, \"The lists of numbers and modules must have equal length.\"\n",
    "    M = prod(m)\n",
    "    Mi = [M.divmod(m[i])[0] for i in range(l)]\n",
    "    for i in range(l):\n",
    "        Mi[i].modulus = M.coeff\n",
    "    MNi = [Mi[i] * Mi[i].inv(m[i]) for i in range(l)]\n",
    "    return sum([(a[i] * MNi[i]).divmod(M)[1] for i in range(l)])\n",
    "\n",
    "\n",
    "a = Poly([1, 2, 3, 4, 5, 6], ring=gf)\n",
    "aj = [a.divmod(m[j])[1] for j in range(128)]\n",
    "\n",
    "ntt(aj, m)"
   ]
  },
  {
   "cell_type": "markdown",
   "id": "248c7ee2-5946-46a3-90a8-efb479f6a07f",
   "metadata": {},
   "source": [
    "### Showcase: AKS primality test"
   ]
  },
  {
   "cell_type": "markdown",
   "id": "fdef726b-5485-4dbb-afa3-fbb1e4ab90d0",
   "metadata": {},
   "source": [
    "Here is a proof of concept implementation of the [AKS primality test](https://en.wikipedia.org/wiki/AKS_primality_test):"
   ]
  },
  {
   "cell_type": "code",
   "execution_count": 119,
   "id": "a7155686-155f-4750-90b4-205f1023f2ce",
   "metadata": {},
   "outputs": [
    {
     "name": "stdout",
     "output_type": "stream",
     "text": [
      "r = 29\n",
      "Checking (x-a)^n = x^n - a: 2 3 4 5 6 7 8 9 10 11 12 13 14 15 16 17 18 19 20 21 22 23 24 25 26 \n"
     ]
    }
   ],
   "source": [
    "from kryptools import perfect_power, order, euler_phi, Poly, Zmod\n",
    "from math import gcd, log2, sqrt, floor\n",
    "from kryptools import is_prime\n",
    "\n",
    "def aks_test(n: int, verbose = False) -> bool:\n",
    "    \"Test if `n` is prime using the AKS primality test.\"\n",
    "    def vprint(s: str, end: str = \"\\n\") -> None:\n",
    "        if verbose:\n",
    "            print(s, end = end)\n",
    "    if n < 2:\n",
    "        return False\n",
    "    # Step 1: Test if n is a perfect power\n",
    "    res = perfect_power(n)\n",
    "    if res:\n",
    "        vprint(f\"Perfect power: n = {res[0]}^{res[1]}\")\n",
    "        return False\n",
    "    # Step 2\n",
    "    r = 2\n",
    "    l2n2 = log2(n)**2\n",
    "    while True:\n",
    "        g = gcd(r,n)\n",
    "        if g > 1:\n",
    "            if r < n:\n",
    "                vprint(f\"Common factor found while searching for r: {g}\")\n",
    "                return False\n",
    "        elif order(n, r) > l2n2:\n",
    "            break\n",
    "        r += 1\n",
    "    vprint(f\"r = {r}\")\n",
    "    # Step 4\n",
    "    if n <= r:\n",
    "        print(f\"Condition n <= r is met.\")\n",
    "        return True\n",
    "    # Step 3\n",
    "    for a in range(2, min(r,n-1)+1):\n",
    "        if not a % n:\n",
    "            vprint(f\"Common factor found while testing a's: {a}\")\n",
    "            return False\n",
    "    # Step 5\n",
    "    vprint(\"Checking (x-a)^n = x^n - a: \", end =\"\")\n",
    "    Z_n = Zmod(n)\n",
    "    modulus = [-1] + [0]* (r-1) + [1]\n",
    "    for a in range(2, floor(sqrt(euler_phi(r)) * log2(n)) + 1):\n",
    "        vprint(f\"{a} \", end=\"\")\n",
    "        # Check (x-a)^n = x^n - a in Z_n[x]_{x^r-1}\n",
    "        pol = Poly([a, 1], ring = Z_n, modulus = modulus)**n - Poly([0, 1], ring = Z_n, modulus = modulus)**n - Poly([a], ring = Z_n, modulus = modulus)\n",
    "        if pol:\n",
    "            vprint(\"\")\n",
    "            return False\n",
    "    vprint(\"\")\n",
    "    return True\n",
    "\n",
    "n = 31\n",
    "assert aks_test(n, verbose = True) == is_prime(n)"
   ]
  },
  {
   "cell_type": "markdown",
   "id": "e806524f-1aff-4971-b4d5-44c51dd9a452",
   "metadata": {},
   "source": [
    "## Eliptic curves"
   ]
  },
  {
   "cell_type": "markdown",
   "id": "1f5fdb01-b2c4-407d-92a6-61b1251fa21d",
   "metadata": {},
   "source": [
    "To declare an [elliptic curve](https://en.wikipedia.org/wiki/Elliptic_curve) in Weierstrass normal form use"
   ]
  },
  {
   "cell_type": "code",
   "execution_count": 120,
   "id": "9b566550-f23c-4fbc-8b7c-63bbee8e0c72",
   "metadata": {},
   "outputs": [
    {
     "name": "stdout",
     "output_type": "stream",
     "text": [
      "Weierstrass curve y^2 = x^3 + 3 x + 1 over Z_239.\n",
      "Order: 258\n"
     ]
    }
   ],
   "source": [
    "from kryptools import EC_Weierstrass\n",
    "\n",
    "ec = EC_Weierstrass(239, 3, 1)\n",
    "ec.info()\n",
    "print(\"Order:\", ec.order())"
   ]
  },
  {
   "cell_type": "markdown",
   "id": "7ef535f6-0d9f-4279-8e67-9604816712ba",
   "metadata": {},
   "source": [
    "The order is computed using the Shanks-Maestre algorithm."
   ]
  },
  {
   "cell_type": "markdown",
   "id": "e1b2a51c-fafa-4693-8d1d-8ee1c5f386ad",
   "metadata": {},
   "source": [
    "Basic arithmetic"
   ]
  },
  {
   "cell_type": "code",
   "execution_count": 121,
   "id": "55c29e0c-e0c2-409a-af23-6590fd9cc545",
   "metadata": {},
   "outputs": [
    {
     "data": {
      "text/plain": [
       "(113, 91)"
      ]
     },
     "execution_count": 121,
     "metadata": {},
     "output_type": "execute_result"
    }
   ],
   "source": [
    "P = ec.random()\n",
    "Q = ec.random()\n",
    "O = ec.inf()  # point at infinity\n",
    "P + Q"
   ]
  },
  {
   "cell_type": "markdown",
   "id": "98769219-8b68-4cbb-bf1f-641061beccde",
   "metadata": {},
   "source": [
    "To check if a point is on the curve use"
   ]
  },
  {
   "cell_type": "code",
   "execution_count": 122,
   "id": "f980a2d0-4413-4812-a73d-1bab72a744f3",
   "metadata": {},
   "outputs": [
    {
     "data": {
      "text/plain": [
       "True"
      ]
     },
     "execution_count": 122,
     "metadata": {},
     "output_type": "execute_result"
    }
   ],
   "source": [
    "P in ec"
   ]
  },
  {
   "cell_type": "markdown",
   "id": "babb9780-b05b-452d-a769-b2f467d660e0",
   "metadata": {},
   "source": [
    "To compute the order of a point use"
   ]
  },
  {
   "cell_type": "code",
   "execution_count": 123,
   "id": "2a3d8e7d-71b3-4a93-b6cc-803f00432c56",
   "metadata": {},
   "outputs": [
    {
     "data": {
      "text/plain": [
       "129"
      ]
     },
     "execution_count": 123,
     "metadata": {},
     "output_type": "execute_result"
    }
   ],
   "source": [
    "assert Q.order() * Q == O\n",
    "Q.order()"
   ]
  },
  {
   "cell_type": "markdown",
   "id": "42307a96-3af9-4c1e-8a45-546c795af487",
   "metadata": {},
   "source": [
    "The $n$'th division polynomial $\\Psi_n(x,y)$ will anihilate all points whose order is a multiple of $n$:"
   ]
  },
  {
   "cell_type": "code",
   "execution_count": 124,
   "id": "76d3b602-4903-4218-b34c-a39fbe392ad1",
   "metadata": {},
   "outputs": [
    {
     "data": {
      "text/plain": [
       "0"
      ]
     },
     "execution_count": 124,
     "metadata": {},
     "output_type": "execute_result"
    }
   ],
   "source": [
    "P.psi(P.order())"
   ]
  },
  {
   "cell_type": "markdown",
   "id": "ee964846-0f24-4134-9772-39bea8dd04c1",
   "metadata": {},
   "source": [
    "To compute a discrete log (Pohlig-Hellman reduction and Shank's baby step/giant step algorithm) use"
   ]
  },
  {
   "cell_type": "code",
   "execution_count": 125,
   "id": "bb93b5fc-99c9-4977-8299-9342b84e143d",
   "metadata": {},
   "outputs": [],
   "source": [
    "k = 12\n",
    "R = k * Q\n",
    "assert R.dlog(Q) == k % Q.order()"
   ]
  },
  {
   "cell_type": "markdown",
   "id": "c1808758-ca5f-468d-b69f-1cbb8e86e30c",
   "metadata": {},
   "source": [
    "### Showcase: Bitcoin curve"
   ]
  },
  {
   "cell_type": "markdown",
   "id": "a2e99c11-1071-45ad-a008-1cdc05a1b63c",
   "metadata": {},
   "source": [
    "Setting the NIST curve [`secp256k1`](https://en.bitcoin.it/wiki/Secp256k1)"
   ]
  },
  {
   "cell_type": "code",
   "execution_count": 126,
   "id": "41e18357-da42-4cd7-bd4e-1c3355f1c69d",
   "metadata": {},
   "outputs": [],
   "source": [
    "p = 2**256 - 2**32 - 2**9 - 2**8 - 2**7 - 2**6 - 2**4 - 1\n",
    "m = 115792089237316195423570985008687907852837564279074904382605163141518161494337  # order of the curve\n",
    "ec = EC_Weierstrass(p, 0, 7, m)\n",
    "ec.hex = True  # display points in hex form\n",
    "ec.short = True  # display points in short form\n",
    "G = ec(\n",
    "    \"02 79BE667E F9DCBBAC 55A06295 CE870B07 029BFCDB 2DCE28D9 59F2815B 16F81798\"\n",
    ")  # generator"
   ]
  },
  {
   "cell_type": "markdown",
   "id": "c34fd9e7-3846-4b66-a442-d3b0e86fde13",
   "metadata": {},
   "source": [
    "Generate a (pseudorandom) key pair"
   ]
  },
  {
   "cell_type": "code",
   "execution_count": 127,
   "id": "af81d5f2-a524-4555-8e74-06a0c9a7ea08",
   "metadata": {},
   "outputs": [
    {
     "data": {
      "text/plain": [
       "(23529166972251975810298992610444093284962271729068871731505428628592805361023,\n",
       " 0x03449ef2ed30a8deb96e584a08c329adbf1be87ce40f1a0e7b4e86178682c41a9c)"
      ]
     },
     "execution_count": 127,
     "metadata": {},
     "output_type": "execute_result"
    }
   ],
   "source": [
    "secret_key = randint(2, m - 1)\n",
    "public_key = secret_key * G\n",
    "secret_key, public_key"
   ]
  },
  {
   "cell_type": "markdown",
   "id": "c3ebfff1-5ec4-420d-a002-b1448637d303",
   "metadata": {},
   "source": [
    "## Linear codes"
   ]
  },
  {
   "cell_type": "markdown",
   "id": "743fc893-ef7f-4175-bf23-546ffb417314",
   "metadata": {},
   "source": [
    "A [linear code](https://en.wikipedia.org/wiki/Linear_code) of length $n$ over a finite field $\\mathbb{K}$ is a linear subspace of $\\mathbb{K}^n$. The dimension of the code is usually denoted by $k$ and one speaks of an $[n,k]$ code. A matrix $G$ whose column vectors form a basis for the code is known as generator matrix of the code."
   ]
  },
  {
   "cell_type": "code",
   "execution_count": 128,
   "id": "9564d27b-f4ec-417c-a257-9ab1cbcd9fe5",
   "metadata": {},
   "outputs": [
    {
     "data": {
      "text/latex": [
       "$\\displaystyle\\begin{pmatrix}\n",
       "0 & 1 & 1\\\\\n",
       "1 & 1 & 0\\\\\n",
       "\\end{pmatrix}$"
      ],
      "text/plain": [
       "[ 0, 1, 1 ]\n",
       "[ 1, 1, 0 ]"
      ]
     },
     "execution_count": 128,
     "metadata": {},
     "output_type": "execute_result"
    }
   ],
   "source": [
    "from kryptools import Zmod, Matrix\n",
    "Z_2 = Zmod(2)\n",
    "\n",
    "G = Matrix([[0, 1, 1], [1, 1, 0]], ring = Z_2)\n",
    "G"
   ]
  },
  {
   "cell_type": "markdown",
   "id": "db6a75ae-3b6d-44bd-849f-7f3bb549c9c1",
   "metadata": {},
   "source": [
    "Computing the row reduced echelon form of $G$ will give you a simpler basis, still generating the same code. In addition, if you permute the rows you get an equivalent code whose generator matrix is of the form $G=(\\mathbb{I}_k, M)$. This is known al left standard form. The command `left_standard_form` will return both the standard form and the perturbation matrix."
   ]
  },
  {
   "cell_type": "code",
   "execution_count": 129,
   "id": "361b6eda-7f7c-4ca2-833e-e77be9897ccf",
   "metadata": {},
   "outputs": [
    {
     "data": {
      "text/latex": [
       "$\\displaystyle\\begin{pmatrix}\n",
       "1 & 0 & 1\\\\\n",
       "0 & 1 & 1\\\\\n",
       "\\end{pmatrix}$"
      ],
      "text/plain": [
       "[ 1, 0, 1 ]\n",
       "[ 0, 1, 1 ]"
      ]
     },
     "execution_count": 129,
     "metadata": {},
     "output_type": "execute_result"
    }
   ],
   "source": [
    "from kryptools import left_standard_form\n",
    "\n",
    "GG, P = left_standard_form(G)\n",
    "GG"
   ]
  },
  {
   "cell_type": "markdown",
   "id": "48a044c8-a127-4b95-b13e-2377b4492201",
   "metadata": {},
   "source": [
    "A matrix whose kernel equals the code is known as parity check matrix for the code. If the generator matrix is in left standard form $G=(\\mathbb{I}_k, M)$, one can easily verify, that a parity check matrix is $H=(-M^T, \\mathbb{I}_{n-k})$."
   ]
  },
  {
   "cell_type": "code",
   "execution_count": 130,
   "id": "166b8d97-7937-43f1-9718-9bfc592149b6",
   "metadata": {},
   "outputs": [
    {
     "data": {
      "text/latex": [
       "$\\displaystyle\\begin{pmatrix}\n",
       "1 & 1 & 1\\\\\n",
       "\\end{pmatrix}$"
      ],
      "text/plain": [
       "[ 1, 1, 1 ]"
      ]
     },
     "execution_count": 130,
     "metadata": {},
     "output_type": "execute_result"
    }
   ],
   "source": [
    "from kryptools import gen2pchk\n",
    "\n",
    "H = gen2pchk(GG)\n",
    "H"
   ]
  },
  {
   "cell_type": "markdown",
   "id": "ed5b2adb-04c2-4011-9e89-0c017172bb54",
   "metadata": {},
   "source": [
    "Now you can encode given $k$ bits using"
   ]
  },
  {
   "cell_type": "code",
   "execution_count": 131,
   "id": "e2cc43e3-10c5-4ac8-8e13-8f14f9e20116",
   "metadata": {},
   "outputs": [
    {
     "data": {
      "text/plain": [
       "[0, 1, 1]"
      ]
     },
     "execution_count": 131,
     "metadata": {},
     "output_type": "execute_result"
    }
   ],
   "source": [
    "x = Matrix([0, 1])\n",
    "y = GG.transpose() * x\n",
    "list(y)"
   ]
  },
  {
   "cell_type": "markdown",
   "id": "b20b4751-3657-4ec2-8b79-8d845db2760e",
   "metadata": {},
   "source": [
    "To check that no transmission errors have occured you apply $H$"
   ]
  },
  {
   "cell_type": "code",
   "execution_count": 132,
   "id": "bc8401b1-636f-409d-a855-d4505517c37d",
   "metadata": {},
   "outputs": [
    {
     "data": {
      "text/plain": [
       "0"
      ]
     },
     "execution_count": 132,
     "metadata": {},
     "output_type": "execute_result"
    }
   ],
   "source": [
    "H * y"
   ]
  },
  {
   "cell_type": "markdown",
   "id": "30ac3f47-ac8f-422a-aa42-417f1bb183bf",
   "metadata": {},
   "source": [
    "To decode you solve the corresponding system"
   ]
  },
  {
   "cell_type": "code",
   "execution_count": 133,
   "id": "6b890e22-ed99-4f3e-b868-874dbd33e6ad",
   "metadata": {},
   "outputs": [
    {
     "data": {
      "text/plain": [
       "[0, 1]"
      ]
     },
     "execution_count": 133,
     "metadata": {},
     "output_type": "execute_result"
    }
   ],
   "source": [
    "list(GG.transpose().solve(y))"
   ]
  },
  {
   "cell_type": "markdown",
   "id": "28da4c3c-5d1c-41f3-97df-4a3f22af065d",
   "metadata": {},
   "source": [
    "Suppose some errors occured during the transmission of $y$ and $yy$ was recived. The number of errors (i.e. changed positions) is knonw as [Hamming distance](https://en.wikipedia.org/wiki/Hamming_distance)"
   ]
  },
  {
   "cell_type": "code",
   "execution_count": 134,
   "id": "a7e87b02-2b24-450d-8334-c6c75e27e781",
   "metadata": {},
   "outputs": [
    {
     "data": {
      "text/plain": [
       "1"
      ]
     },
     "execution_count": 134,
     "metadata": {},
     "output_type": "execute_result"
    }
   ],
   "source": [
    "from kryptools import hamming_dist\n",
    "\n",
    "yy = Matrix([1, 1, 1], ring = Z_2)\n",
    "hamming_dist(y, yy)"
   ]
  },
  {
   "cell_type": "markdown",
   "id": "8b196b37-1b2b-4296-8e5a-1fe39b700a82",
   "metadata": {},
   "source": [
    "In this case the error can be dedected with the parity check matrix:"
   ]
  },
  {
   "cell_type": "code",
   "execution_count": 135,
   "id": "1ab635db-7e6f-4cba-b85f-59e75237664b",
   "metadata": {},
   "outputs": [
    {
     "data": {
      "text/plain": [
       "1"
      ]
     },
     "execution_count": 135,
     "metadata": {},
     "output_type": "execute_result"
    }
   ],
   "source": [
    "H * yy"
   ]
  },
  {
   "cell_type": "markdown",
   "id": "cecd8819-1c97-4b39-8066-c1dde00406a5",
   "metadata": {},
   "source": [
    "The number of errors which can always be dedected equals the minimal Hamming distance between code words, which by lineariy equals the minimal distance of all nontrivial code words from zero. The following [Hamming code](https://en.wikipedia.org/wiki/Hamming_code)"
   ]
  },
  {
   "cell_type": "code",
   "execution_count": 136,
   "id": "1a7a4c4f-a1a4-4385-80d3-f690a0870298",
   "metadata": {},
   "outputs": [
    {
     "data": {
      "text/latex": [
       "$\\displaystyle\\begin{pmatrix}\n",
       "1 & 1 & 1 & 0 & 0 & 0 & 0\\\\\n",
       "1 & 0 & 0 & 1 & 1 & 0 & 0\\\\\n",
       "0 & 1 & 0 & 1 & 0 & 1 & 0\\\\\n",
       "1 & 1 & 0 & 1 & 0 & 0 & 1\\\\\n",
       "\\end{pmatrix}$"
      ],
      "text/plain": [
       "[ 1, 1, 1, 0, 0, 0, 0 ]\n",
       "[ 1, 0, 0, 1, 1, 0, 0 ]\n",
       "[ 0, 1, 0, 1, 0, 1, 0 ]\n",
       "[ 1, 1, 0, 1, 0, 0, 1 ]"
      ]
     },
     "execution_count": 136,
     "metadata": {},
     "output_type": "execute_result"
    }
   ],
   "source": [
    "def Hamming2(h: int) -> Matrix:\n",
    "    \"Parity check matrix for the binary Hamming code.\"\n",
    "    out = []\n",
    "    for i in range(1,2**h):\n",
    "        out.append([int(d) for d in str(format(i, \"0\" + str(h) + \"b\"))])\n",
    "    return Matrix(out, ring = Z_2).transpose()\n",
    "\n",
    "\n",
    "H = Hamming2(3)\n",
    "G = gen2pchk(H)\n",
    "assert not H*G.transpose()\n",
    "G"
   ]
  },
  {
   "cell_type": "markdown",
   "id": "2debd191-018e-4b86-be9f-30d164f6558e",
   "metadata": {},
   "source": [
    "has minimal distance $3$:"
   ]
  },
  {
   "cell_type": "code",
   "execution_count": 137,
   "id": "0abee5ff-7767-4f5e-a79e-731d77cd2c6c",
   "metadata": {},
   "outputs": [
    {
     "data": {
      "text/plain": [
       "3"
      ]
     },
     "execution_count": 137,
     "metadata": {},
     "output_type": "execute_result"
    }
   ],
   "source": [
    "from kryptools import GF2\n",
    "\n",
    "def minimum_distance(G: Matrix) ->int:\n",
    "    \"Compute the minimum distance of a binary linear code with given generator matrix.\"\n",
    "    d =  G.cols\n",
    "    zero = Matrix([0] * d)\n",
    "    for x in GF2(G.rows).star():\n",
    "        d = min(d, hamming_dist((G.transpose() * Matrix(x.bits())).applyfunc(int), zero))\n",
    "    return d\n",
    "\n",
    "d_min = minimum_distance(G)\n",
    "d_min"
   ]
  },
  {
   "cell_type": "markdown",
   "id": "ba66c318-8755-404a-b719-6ed4e1998b57",
   "metadata": {},
   "source": [
    "Hence it cannot only dedect $d-1 = 2$ errors but even correct $\\lfloor (d-1)/2 \\rfloor = 1$ error. To correct the error one has to find the codeword with minimal distance to the recieved word."
   ]
  },
  {
   "cell_type": "markdown",
   "id": "3017ed4a-899a-4d13-9048-4957c87f2bf9",
   "metadata": {},
   "source": [
    "We first create some sample vectors and add some errors."
   ]
  },
  {
   "cell_type": "code",
   "execution_count": 138,
   "id": "fb5ab766-3ea9-476b-bbec-43235712b74b",
   "metadata": {},
   "outputs": [],
   "source": [
    "t = (d_min - 1)//2  # number of errors the code can correct\n",
    "assert t >= 1\n",
    "\n",
    "x = Matrix([randint(0,1) for _ in range(G.rows)], ring = Z_2)\n",
    "y = G.transpose() * x\n",
    "e = y.zeros()\n",
    "for i in sample(range(G.cols), t):\n",
    "    e[i] = Z_2(1)\n",
    "yy = y + e"
   ]
  },
  {
   "cell_type": "markdown",
   "id": "a1470c3e-7e3a-407a-bd34-a893c7b22282",
   "metadata": {},
   "source": [
    "To decode one computes the syndrome which only depends on the error."
   ]
  },
  {
   "cell_type": "code",
   "execution_count": 139,
   "id": "631df954-b39a-4bcb-9efa-d12bc2ccf0ec",
   "metadata": {},
   "outputs": [
    {
     "data": {
      "text/latex": [
       "$\\displaystyle\\begin{pmatrix}\n",
       "0\\\\\n",
       "1\\\\\n",
       "1\\\\\n",
       "\\end{pmatrix}$"
      ],
      "text/plain": [
       "[ 0 ]\n",
       "[ 1 ]\n",
       "[ 1 ]"
      ]
     },
     "execution_count": 139,
     "metadata": {},
     "output_type": "execute_result"
    }
   ],
   "source": [
    "H * yy"
   ]
  },
  {
   "cell_type": "markdown",
   "id": "4516535a-5b5c-4eb3-8815-760d79a8355e",
   "metadata": {},
   "source": [
    "Then, given a precomputed table with the syndromes of all possible errors, one can determine the error and decode the corrected word:"
   ]
  },
  {
   "cell_type": "code",
   "execution_count": 140,
   "id": "7d16e899-7cc4-4f03-8b1e-662d5b78133d",
   "metadata": {},
   "outputs": [
    {
     "data": {
      "text/plain": [
       "[0, 0, 1, 0, 0, 0, 0]"
      ]
     },
     "execution_count": 140,
     "metadata": {},
     "output_type": "execute_result"
    }
   ],
   "source": [
    "from itertools import combinations\n",
    "t=1\n",
    "\n",
    "syndromes = {}\n",
    "for s in range(t+1):\n",
    "    for comb in combinations(range(G.cols), s):\n",
    "        e = [0] * G.cols\n",
    "        for i in comb:\n",
    "            e[i] = 1\n",
    "        syndromes[tuple((H * Matrix(e)).applyfunc(int))] = e\n",
    "\n",
    "syndromes\n",
    "\n",
    "e = syndromes[tuple((H * yy).applyfunc(int))]\n",
    "e"
   ]
  },
  {
   "cell_type": "code",
   "execution_count": 141,
   "id": "33eb00e9-88a0-46e2-a32a-80c6d6412266",
   "metadata": {},
   "outputs": [],
   "source": [
    "xx = G.transpose().solve(yy - Matrix(e))\n",
    "\n",
    "assert x == xx"
   ]
  },
  {
   "cell_type": "markdown",
   "id": "3d0620f6-6f85-4b60-9826-18035907faa8",
   "metadata": {},
   "source": [
    "Alternatively one can use information set decoding. To this end one selectes $k$ linearly independent equations from the system $G^T x  =y$ and hopes that no errors occured within the selected bits from $y$. We do not bother to check the selected equations for linear independence and solve right away, as this will not affect the outcome."
   ]
  },
  {
   "cell_type": "code",
   "execution_count": 142,
   "id": "a240c523-2c6e-4b75-946b-ff56717c2cc6",
   "metadata": {},
   "outputs": [
    {
     "name": "stdout",
     "output_type": "stream",
     "text": [
      "Solution found with 1 trys.\n"
     ]
    }
   ],
   "source": [
    "from random import randint, sample\n",
    "\n",
    "t = (d_min - 1)//2  # number of errors the code can correct\n",
    "\n",
    "x = Matrix([randint(0,1) for _ in range(G.rows)], ring = Z_2)\n",
    "y = G.transpose() * x\n",
    "e = y.zeros()\n",
    "for i in sample(range(G.cols), t):\n",
    "    e[i] = Z_2(1)\n",
    "y = y + e\n",
    "\n",
    "count = 0\n",
    "found = False\n",
    "while not found:\n",
    "    count += 1\n",
    "    GG = G.zeros(G.rows)  # template to hold the selected columns\n",
    "    yy = y.zeros(G.rows, 1)  # template to hold the corresponding bits from y\n",
    "    for i, j in enumerate(sample(range(G.cols), G.rows)):\n",
    "        GG[:,i] = G[:,j]\n",
    "        yy[i] = y[j]\n",
    "    xx = GG.transpose().solve(yy) # try to solve the selection\n",
    "    if xx is None:  # no soluton\n",
    "        continue\n",
    "    yy = G.transpose() * xx\n",
    "    if hamming_dist(y, yy) <= t:  # check if the solution has at most t errors\n",
    "        found = True\n",
    "\n",
    "print(f\"Solution found with {count} trys.\")\n",
    "assert x == xx"
   ]
  },
  {
   "cell_type": "markdown",
   "id": "7b03372b-d571-41c0-82b2-d1538ec33625",
   "metadata": {},
   "source": [
    "A particulary important class for cryptography are Goppa codes. A [binary Goppa code](https://en.wikipedia.org/wiki/Binary_Goppa_code) is defined over the polynomial ring $GF(2^m)[x]_{g(x)}$, where $g(x)$ is some given polynomial from $GF(2^m)[x]$. Then given a list of points $\\alpha_0, \\dots, \\alpha_{k-1} \\in GF(2^m)$ which must not be zeros of $g$ the code is defined by all $y\\in \\mathbb{Z}_2^k$ for which\n",
    "$$\n",
    "\\sum_{j=0}^{k-1} y_j (x-\\alpha_j)^{-1} = 0 \\pmod{g(x)}.\n",
    "$$"
   ]
  },
  {
   "cell_type": "code",
   "execution_count": 143,
   "id": "b03942c8-39e3-4c32-9293-eb0adc8f4d7b",
   "metadata": {},
   "outputs": [],
   "source": [
    "from kryptools import GF2, Poly, Goppa\n",
    "\n",
    "gf = GF2(4)\n",
    "g = Poly([2, 0, 0, 1], ring = gf)\n",
    "alpha = list(gf)\n",
    "\n",
    "goppa = Goppa(gf, g, alpha)"
   ]
  },
  {
   "cell_type": "markdown",
   "id": "4b8aca77-95ee-410f-be9f-fd4550130043",
   "metadata": {},
   "source": [
    "If at most $t=\\deg(g)$ errors occured, decoding can be done efficiently using Patterson's algorithm."
   ]
  },
  {
   "cell_type": "code",
   "execution_count": 144,
   "id": "79ad39b7-04bf-48c5-96b5-5bce78ae463a",
   "metadata": {},
   "outputs": [
    {
     "data": {
      "text/plain": [
       "[0, 1, 0, 0, 0, 1, 1, 0, 1, 1, 1, 1, 1, 0, 1, 1]"
      ]
     },
     "execution_count": 144,
     "metadata": {},
     "output_type": "execute_result"
    }
   ],
   "source": [
    "x = [1, 0, 1, 1]\n",
    "y = goppa.encode(x)\n",
    "assert goppa.decode(y) == x\n",
    "y"
   ]
  },
  {
   "cell_type": "code",
   "execution_count": 145,
   "id": "33345534-fd91-49fc-8789-e08d80549c8f",
   "metadata": {},
   "outputs": [],
   "source": [
    "yy = [0, 1, 0, 0, 0, 1, 1, 0, 1, 1, 1, 1, 1, 0, 0, 0]\n",
    "assert hamming_dist(y, yy) <= g.degree()\n",
    "assert goppa.decode(yy) == x"
   ]
  },
  {
   "cell_type": "markdown",
   "id": "b03a8e50-cc68-4ef0-ab53-eaae9f0b38b7",
   "metadata": {},
   "source": [
    "## DES"
   ]
  },
  {
   "cell_type": "markdown",
   "id": "05171dae-bca1-493a-9407-37c1e3a2ea21",
   "metadata": {},
   "source": [
    "The DES module implements a basic DES-type Feistel network plus the corresponding key-schedule. Specifying the corresponding permutations and sboxes, one can get instances of S-DES and DES."
   ]
  },
  {
   "cell_type": "markdown",
   "id": "04dd61e8-4360-4f57-8bdf-d5bcb3769149",
   "metadata": {},
   "source": [
    "For SDES the two classes are `SDESKeySchedule` and `SDESCipher`. The first class is used to compute the round keys. Internally everything is represented as a list of the individual bits. This is the state to begin with:"
   ]
  },
  {
   "cell_type": "code",
   "execution_count": 146,
   "id": "c5828a73-8c57-462e-958e-44e5522b27aa",
   "metadata": {},
   "outputs": [
    {
     "data": {
      "text/plain": [
       "[0, 1, 0, 0, 0, 0, 0, 1, 0, 0]"
      ]
     },
     "execution_count": 146,
     "metadata": {},
     "output_type": "execute_result"
    }
   ],
   "source": [
    "from kryptools import SDESKeySchedule\n",
    "\n",
    "ks = SDESKeySchedule(34)\n",
    "ks"
   ]
  },
  {
   "cell_type": "markdown",
   "id": "802bc236-b4bf-46fd-932a-d4b464688d9f",
   "metadata": {},
   "source": [
    "If you prefer the output as a hex number, you can use the following option:"
   ]
  },
  {
   "cell_type": "code",
   "execution_count": 147,
   "id": "ec1b5925-aed5-4b67-8705-22dbfa7ac4c5",
   "metadata": {},
   "outputs": [
    {
     "name": "stdout",
     "output_type": "stream",
     "text": [
      "104\n"
     ]
    }
   ],
   "source": [
    "SDESKeySchedule.print_hex = True\n",
    "print(ks)\n",
    "SDESKeySchedule.print_hex = False"
   ]
  },
  {
   "cell_type": "markdown",
   "id": "41437246-651b-4751-bee3-d43fa168d680",
   "metadata": {},
   "source": [
    "Using the `next()` method you can generate the keys one after the other"
   ]
  },
  {
   "cell_type": "code",
   "execution_count": 148,
   "id": "43b4ca29",
   "metadata": {},
   "outputs": [
    {
     "data": {
      "text/plain": [
       "[0, 0, 1, 0, 0, 0, 0, 0]"
      ]
     },
     "execution_count": 148,
     "metadata": {},
     "output_type": "execute_result"
    }
   ],
   "source": [
    "ks.next()"
   ]
  },
  {
   "cell_type": "markdown",
   "id": "1dd2bd31-bf84-4dad-86f3-007301534208",
   "metadata": {},
   "source": [
    "You can also generate all round keys (in the case of SDES there are just two) at once. But you might want to reset the state in case you already generated some keys."
   ]
  },
  {
   "cell_type": "code",
   "execution_count": 149,
   "id": "5a27321a-e6e4-403a-81ea-798cd0b522ee",
   "metadata": {},
   "outputs": [
    {
     "data": {
      "text/plain": [
       "[[0, 0, 1, 0, 0, 0, 0, 0], [0, 0, 0, 1, 0, 0, 1, 0]]"
      ]
     },
     "execution_count": 149,
     "metadata": {},
     "output_type": "execute_result"
    }
   ],
   "source": [
    "ks.reset()\n",
    "keys = ks.gen_keys()\n",
    "keys"
   ]
  },
  {
   "cell_type": "markdown",
   "id": "c4512d52-c1ac-4454-a204-d253f11f6618",
   "metadata": {},
   "source": [
    "There is also a handy function for converting the list of bits back to an integer:"
   ]
  },
  {
   "cell_type": "code",
   "execution_count": 150,
   "id": "fad2a094-e965-44bf-8bec-f667ad03b764",
   "metadata": {},
   "outputs": [
    {
     "data": {
      "text/plain": [
       "32"
      ]
     },
     "execution_count": 150,
     "metadata": {},
     "output_type": "execute_result"
    }
   ],
   "source": [
    "from kryptools import list2int\n",
    "\n",
    "list2int(keys[0])"
   ]
  },
  {
   "cell_type": "markdown",
   "id": "d331c5be-eb05-4d83-885a-4e5f7b22acca",
   "metadata": {},
   "source": [
    "Of course there is also a function which converts an integer to a list of bits with fixed length given by the second argument:"
   ]
  },
  {
   "cell_type": "code",
   "execution_count": 151,
   "id": "0fe9000a-6ed7-40b6-8920-3d9256699b5e",
   "metadata": {},
   "outputs": [
    {
     "data": {
      "text/plain": [
       "[0, 0, 1, 0, 0, 0, 0, 0]"
      ]
     },
     "execution_count": 151,
     "metadata": {},
     "output_type": "execute_result"
    }
   ],
   "source": [
    "from kryptools import int2list\n",
    "\n",
    "int2list(32, 8)"
   ]
  },
  {
   "cell_type": "markdown",
   "id": "a6084a4b-21c0-49a5-9e77-161e24e61dd0",
   "metadata": {},
   "source": [
    "Next, there is the `SDESCipher` class. It gives you access to all individual operations"
   ]
  },
  {
   "cell_type": "code",
   "execution_count": 152,
   "id": "e5ac0096-d7c8-4cb0-a6b2-4540f4e3d4ea",
   "metadata": {},
   "outputs": [
    {
     "name": "stdout",
     "output_type": "stream",
     "text": [
      "00000001\n",
      "00000100\n",
      "01001110\n",
      "00111110\n"
     ]
    },
    {
     "data": {
      "text/plain": [
       "185"
      ]
     },
     "execution_count": 152,
     "metadata": {},
     "output_type": "execute_result"
    }
   ],
   "source": [
    "from kryptools import SDESCipher\n",
    "\n",
    "x = b\"\\x01\"  # the message to be encrypted\n",
    "sdes = SDESCipher()\n",
    "sdes(x)  # set up the cipher\n",
    "\n",
    "print(sdes)\n",
    "sdes.ip()  # apply the initial permutation\n",
    "print(sdes)\n",
    "\n",
    "sdes.round(keys[0])  # apply one round with the given round key\n",
    "print(sdes)\n",
    "\n",
    "sdes.round(keys[1], last=True)  # The last round will not switch the two halfes\n",
    "print(sdes)\n",
    "\n",
    "sdes.fp()  # apply the final permutation\n",
    "# print(sdes)\n",
    "\n",
    "int(sdes)"
   ]
  },
  {
   "cell_type": "markdown",
   "id": "4d841b08-21ad-4e64-93de-79e62402fc1a",
   "metadata": {},
   "source": [
    "Of course you can also encrypt/decrypt individual blocks. The result is a single byte and you can use the following trick to get the result as an integer:"
   ]
  },
  {
   "cell_type": "code",
   "execution_count": 153,
   "id": "5b63b369-bd7c-4281-ad96-8529889377fe",
   "metadata": {},
   "outputs": [
    {
     "data": {
      "text/plain": [
       "185"
      ]
     },
     "execution_count": 153,
     "metadata": {},
     "output_type": "execute_result"
    }
   ],
   "source": [
    "sdes = SDESCipher(34)\n",
    "sdes.encrypt(x)[0]"
   ]
  },
  {
   "cell_type": "markdown",
   "id": "1b938679-16a7-4762-ad6d-6416b62f31b0",
   "metadata": {},
   "source": [
    "Note that it is easy to change the individual components of the Feistel cipher. For example if you change the schedule of left shifts for the key schedule for S-DES from `ROT = (1, 2)` to (say) `ROT = (1, 2, 2, 1)`, you will get a variant of S-DES with 4 rounds. This is conveniant if you want to apply linear or differential cryptoanalysis (which is kind of pointless for a Feistel network with only two rounds)."
   ]
  },
  {
   "cell_type": "code",
   "execution_count": 154,
   "id": "0e4dc87f-6ff7-40df-a721-16800632d0b2",
   "metadata": {},
   "outputs": [
    {
     "data": {
      "text/plain": [
       "107"
      ]
     },
     "execution_count": 154,
     "metadata": {},
     "output_type": "execute_result"
    }
   ],
   "source": [
    "sdes.key_schedule.ROT = (1, 2, 2, 1)\n",
    "sdes.set_key(34)  # to use the new key schedule\n",
    "sdes.encrypt(x)[0]"
   ]
  },
  {
   "cell_type": "markdown",
   "id": "e11e00be-de86-4309-84a4-21bf8e795cf5",
   "metadata": {},
   "source": [
    "Of course the same works with DES. Here are some test vectors from  the [Handbok of Applied Cryptography](https://cacr.uwaterloo.ca/hac/) (Example 7.86):"
   ]
  },
  {
   "cell_type": "code",
   "execution_count": 155,
   "id": "7d7ab38b-edf9-4a45-ac91-d411ced01755",
   "metadata": {},
   "outputs": [
    {
     "name": "stdout",
     "output_type": "stream",
     "text": [
      "3fa40e8a984d4815\n"
     ]
    }
   ],
   "source": [
    "from kryptools import DESCipher\n",
    "\n",
    "key = 0x0123456789ABCDEF.to_bytes(8, \"big\")\n",
    "x = 0x4E6F772069732074.to_bytes(8, \"big\")\n",
    "y = 0x3FA40E8A984D4815.to_bytes(8, \"big\")\n",
    "\n",
    "des = DESCipher(key)\n",
    "des(x).encrypt()\n",
    "print(des)\n",
    "assert bytes(des) == y\n",
    "assert des.decrypt() == x"
   ]
  },
  {
   "cell_type": "markdown",
   "id": "90878e9c-bd46-4acc-9f99-5965c8108734",
   "metadata": {},
   "source": [
    "Here are the sample round outputs from [NBS SP500-20](https://doi.org/10.6028/NBS.SP.500-20e1980) (Figure 4 on p9):"
   ]
  },
  {
   "cell_type": "code",
   "execution_count": 156,
   "id": "d64caff1-4a82-4e9b-97df-58b0886e68da",
   "metadata": {},
   "outputs": [
    {
     "name": "stdout",
     "output_type": "stream",
     "text": [
      "round 00: 00000000 47092b5b  (key= 4220438e6f23, fbox= 47092b5b)\n",
      "round 01: 47092b5b 53f372af  (key= 182235355963, fbox= 53f372af)\n",
      "round 02: 53f372af 9f1d158b  (key= 851408c68876, fbox= d8143ed0)\n",
      "round 03: 9f1d158b 8109cbee  (key= 4202e4c5afdc, fbox= d2fab941)\n",
      "round 04: 8109cbee 60448698  (key= 98d8003996d9, fbox= ff599313)\n",
      "round 05: 60448698 29ebb1a4  (key= 00236a5bd427, fbox= a8e27a4a)\n",
      "round 06: 29ebb1a4 620cc3a3  (key= a054050e6dac, fbox= 0248453b)\n",
      "round 07: 620cc3a3 deeb3d8a  (key= 410b40a879d5, fbox= f7008c2e)\n",
      "round 08: deeb3d8a a1a0354d  (key= 620078ef2871, fbox= c3acf6ee)\n",
      "round 09: a1a0354d 9f0303dc  (key= 8cc004a3eb5a, fbox= 41e83e56)\n",
      "round 10: 9f0303dc fd898ee8  (key= 020b1a359716, fbox= 5c29bba5)\n",
      "round 11: fd898ee8 2d1ae1dd  (key= 2c3021dd04e6, fbox= b219e201)\n",
      "round 12: 2d1ae1dd cbc829fa  (key= 830c484ceacd, fbox= 3641a712)\n",
      "round 13: cbc829fa b367dec9  (key= 48629032f4dd, fbox= 9e7d3f14)\n",
      "round 14: b367dec9 3f6c3efd  (key= 149d08ab95a3, fbox= f4a41707)\n",
      "round 15: 5a1e5228 3f6c3efd  (key= 8209802f73ba, fbox= e9798ce1)\n"
     ]
    },
    {
     "data": {
      "text/plain": [
       "82dcbafbdeab6602"
      ]
     },
     "execution_count": 156,
     "metadata": {},
     "output_type": "execute_result"
    }
   ],
   "source": [
    "key = 0x10316E028C8F3B4A.to_bytes(8, \"big\")\n",
    "x = 0x0000000000000000.to_bytes(8, \"big\")\n",
    "y = 0x82DCBAFBDEAB6602.to_bytes(8, \"big\")\n",
    "\n",
    "\n",
    "des = DESCipher(key)\n",
    "des(x)\n",
    "for i in range(16):\n",
    "    fbox = list2int(des.f_box(des.right(), des.keys[i]))\n",
    "    roundkey = list2int(des.keys[i])\n",
    "    des.round(des.keys[i], last=(i == 15))\n",
    "    res = str(des)\n",
    "    print(\n",
    "        f\"round {i:02d}: {res[:8]} {res[8:]}  (key= {roundkey:012x}, fbox= {fbox:08x})\"\n",
    "    )\n",
    "des.fp()\n",
    "assert bytes(des) == y\n",
    "des"
   ]
  },
  {
   "cell_type": "markdown",
   "id": "49cb2b4f-6476-4a68-bc9f-e07ba993b9ce",
   "metadata": {},
   "source": [
    "## AES"
   ]
  },
  {
   "cell_type": "markdown",
   "id": "89b31170-12e5-4fee-8a3c-64b29c568acd",
   "metadata": {},
   "source": [
    "The AES module implements two classes: `AESKeySchedule` and `AESCipher`. The first class is used to compute the round keys. For example, here are the first two rounds of the key schedule with details:"
   ]
  },
  {
   "cell_type": "code",
   "execution_count": 157,
   "id": "122c4f95-a977-41d5-9edc-24a8ac83f427",
   "metadata": {},
   "outputs": [
    {
     "name": "stdout",
     "output_type": "stream",
     "text": [
      "[ 2b, 28, ab, 09 ]\n",
      "[ 7e, ae, f7, cf ]\n",
      "[ 15, d2, 15, 4f ]\n",
      "[ 16, a6, 88, 3c ]\n",
      "------------------\n",
      "----Round 1-------\n",
      "Start    :[09, cf, 4f, 3c]\n",
      "RotWord  :[cf, 4f, 3c, 09]\n",
      "SubWord  :[8a, 84, eb, 01]\n",
      "AddConst :[8b, 84, eb, 01]\n",
      "[ a0, 88, 23, 2a ]\n",
      "[ fa, 54, a3, 6c ]\n",
      "[ fe, 2c, 39, 76 ]\n",
      "[ 17, b1, 39, 05 ]\n",
      "----Round 2-------\n",
      "Start    :[2a, 6c, 76, 05]\n",
      "RotWord  :[6c, 76, 05, 2a]\n",
      "SubWord  :[50, 38, 6b, e5]\n",
      "AddConst :[52, 38, 6b, e5]\n",
      "[ f2, 7a, 59, 73 ]\n",
      "[ c2, 96, 35, 59 ]\n",
      "[ 95, b9, 80, f6 ]\n",
      "[ f2, 43, 7a, 7f ]\n"
     ]
    }
   ],
   "source": [
    "from kryptools import AESKeySchedule\n",
    "\n",
    "key = 0x2B7E151628AED2A6ABF7158809CF4F3C.to_bytes(16, \"big\")\n",
    "ks = AESKeySchedule(key)\n",
    "ks.showtmp = True\n",
    "\n",
    "print(ks)\n",
    "print(\"------------------\")\n",
    "for _ in range(2):\n",
    "    print(f\"----Round {ks.round+1}-------\")\n",
    "    ks.next()\n",
    "    print(ks)"
   ]
  },
  {
   "cell_type": "markdown",
   "id": "d4ed492d-06c6-43cf-a27c-1910a0d21010",
   "metadata": {},
   "source": [
    "Using the `AEScipher` class you can watch how the state changes during individual rounds:"
   ]
  },
  {
   "cell_type": "code",
   "execution_count": 158,
   "id": "09a8faf8-1f48-4838-9539-440f42fbe257",
   "metadata": {},
   "outputs": [
    {
     "name": "stdout",
     "output_type": "stream",
     "text": [
      "[ 32, 88, 31, e0 ]\n",
      "[ 43, 5a, 31, 37 ]\n",
      "[ f6, 30, 98, 07 ]\n",
      "[ a8, 8d, a2, 34 ]\n",
      "------------------\n",
      "----AddKey--------\n",
      "[ 19, a0, 9a, e9 ]\n",
      "[ 3d, f4, c6, f8 ]\n",
      "[ e3, e2, 8d, 48 ]\n",
      "[ be, 2b, 2a, 08 ]\n",
      "----Round 1-------\n",
      "----SubBytes------\n",
      "[ d4, e0, b8, 1e ]\n",
      "[ 27, bf, b4, 41 ]\n",
      "[ 11, 98, 5d, 52 ]\n",
      "[ ae, f1, e5, 30 ]\n",
      "----ShiftRows-----\n",
      "[ d4, e0, b8, 1e ]\n",
      "[ bf, b4, 41, 27 ]\n",
      "[ 5d, 52, 11, 98 ]\n",
      "[ 30, ae, f1, e5 ]\n",
      "----MixColumns----\n",
      "[ 04, e0, 48, 28 ]\n",
      "[ 66, cb, f8, 06 ]\n",
      "[ 81, 19, d3, 26 ]\n",
      "[ e5, 9a, 7a, 4c ]\n",
      "----AddKey--------\n",
      "[ a4, 68, 6b, 02 ]\n",
      "[ 9c, 9f, 5b, 6a ]\n",
      "[ 7f, 35, ea, 50 ]\n",
      "[ f2, 2b, 43, 49 ]\n"
     ]
    }
   ],
   "source": [
    "from kryptools import AESCipher\n",
    "\n",
    "verbose = True\n",
    "key = 0x2B7E151628AED2A6ABF7158809CF4F3C.to_bytes(16, \"big\")\n",
    "x = 0x3243F6A8885A308D313198A2E0370734.to_bytes(16, \"big\")\n",
    "\n",
    "state = AESCipher(key)\n",
    "state(x)  # initialize the state\n",
    "print(state)\n",
    "print(\"------------------\")\n",
    "print(\"----AddKey--------\")\n",
    "state.add_key(state.keys[0])\n",
    "print(state)\n",
    "for r in range(1, 2):\n",
    "    print(f\"----Round {r}-------\")\n",
    "    if verbose:\n",
    "        print(\"----SubBytes------\")\n",
    "    state.sub_bytes()\n",
    "    if verbose:\n",
    "        print(state)\n",
    "        print(\"----ShiftRows-----\")\n",
    "    state.shift_rows()\n",
    "    if verbose:\n",
    "        print(state)\n",
    "    if r != 10:\n",
    "        if verbose:\n",
    "            print(\"----MixColumns----\")\n",
    "        state.mix_columns()\n",
    "        if verbose:\n",
    "            print(state)\n",
    "    if verbose:\n",
    "        print(\"----AddKey--------\")\n",
    "    state.add_key(state.keys[r])\n",
    "    print(state)"
   ]
  },
  {
   "cell_type": "markdown",
   "id": "790925f6-cd17-4ba2-acd3-d5148a34e188",
   "metadata": {},
   "source": [
    "## Block Ciphers"
   ]
  },
  {
   "cell_type": "markdown",
   "id": "84b67c9a-1fa9-4074-bfb0-60bc3cc0959f",
   "metadata": {},
   "source": [
    "The `BlockCipher` class provides various mode of operations for a block cipher. One way of using it is to provide the encryption/decryption function for one block. An instance gets initialized with the secret key and a mode of operation (`ecb`, `cbc`, etc). If the chosen mode requires padding, PKCS#7 will be used. Also a random IV (initial vector) will be choosen automatically and added to the cipher text as the first block. Accordingly, decryption expects the IV as first block for such modes."
   ]
  },
  {
   "cell_type": "code",
   "execution_count": 159,
   "id": "362ffbbc-7328-4c64-bce3-620df2fbeab0",
   "metadata": {},
   "outputs": [
    {
     "data": {
      "text/plain": [
       "b'k=~\"l,<W'"
      ]
     },
     "execution_count": 159,
     "metadata": {},
     "output_type": "execute_result"
    }
   ],
   "source": [
    "from kryptools import BlockCipher, bytexor\n",
    "\n",
    "\n",
    "class XORBlockCipher(BlockCipher):\n",
    "    blocksize = 2\n",
    "\n",
    "    def encrypt_block(self, b: bytes):\n",
    "        return bytexor(b, self.key)\n",
    "\n",
    "    def decrypt_block(self, b: bytes):\n",
    "        return bytexor(b, self.key)\n",
    "\n",
    "\n",
    "xor2 = XORBlockCipher(b\"az\", mode=\"cbc\")\n",
    "text = b\"test1\"\n",
    "ctext = xor2.encrypt(text)\n",
    "assert text == xor2.decrypt(ctext)\n",
    "ctext"
   ]
  },
  {
   "cell_type": "markdown",
   "id": "5bc0d5d7-38b9-4fc9-bd2b-754b8f5f95b3",
   "metadata": {},
   "source": [
    "Another way of using it is to provide a class for the cipher which supports an encrypt/decrypt method."
   ]
  },
  {
   "cell_type": "code",
   "execution_count": 160,
   "id": "2c0fafc2-ef88-4f30-a95f-8a2b2c5f29ef",
   "metadata": {},
   "outputs": [
    {
     "data": {
      "text/plain": [
       "b'\\x80\\xc2\\xc7\\xe5U\\t\\x17\\xf5\\xc5\\x9d\\x87X'"
      ]
     },
     "execution_count": 160,
     "metadata": {},
     "output_type": "execute_result"
    }
   ],
   "source": [
    "class CaesarCipher:\n",
    "    \"Caesar cipher\"\n",
    "\n",
    "    def __init__(self, key: bytes):\n",
    "        self.key = key\n",
    "\n",
    "    def encrypt(self, text: bytes):\n",
    "        \"Encrypt one block.\"\n",
    "        ctext = bytearray(b\"\\x00\" * len(self.key))\n",
    "        for i in range(len(self.key)):\n",
    "            ctext[i] = (text[i] + self.key[i]) % 256\n",
    "        return bytes(ctext)\n",
    "\n",
    "    def decrypt(self, ctext: bytes):\n",
    "        \"Decrypt one block.\"\n",
    "        text = bytearray(b\"\\x00\" * len(self.key))\n",
    "        for i in range(len(self.key)):\n",
    "            text[i] = (ctext[i] - self.key[i]) % 256\n",
    "        return bytes(text)\n",
    "\n",
    "\n",
    "class CaesarBlockCipher(BlockCipher):\n",
    "    blocksize = 4\n",
    "\n",
    "    def set_key(self, key: bytes):\n",
    "        if len(key) != self.__class__.blocksize:\n",
    "            raise ValueError(f\"Key must be {self.__class__.blocksize} bytes.\")\n",
    "        self.key = key\n",
    "        self.cipher = CaesarCipher(key)\n",
    "\n",
    "\n",
    "ceasar = CaesarBlockCipher(key=b\"abcd\", mode=\"cbc\")\n",
    "text = b\"test123\"\n",
    "ctext = ceasar.encrypt(text)\n",
    "assert text == ceasar.decrypt(ctext)\n",
    "ctext"
   ]
  },
  {
   "cell_type": "markdown",
   "id": "320d034f-fa1d-4b23-9970-ce7094bf25cd",
   "metadata": {},
   "source": [
    "You can also compute a cbc mac"
   ]
  },
  {
   "cell_type": "code",
   "execution_count": 161,
   "id": "d1fd213a-413d-4f92-932e-a819971f015a",
   "metadata": {},
   "outputs": [
    {
     "data": {
      "text/plain": [
       "b'EWH='"
      ]
     },
     "execution_count": 161,
     "metadata": {},
     "output_type": "execute_result"
    }
   ],
   "source": [
    "ceasar.mac_cbc(text)"
   ]
  },
  {
   "cell_type": "markdown",
   "id": "b2dc8280-9424-4af1-84df-4a08ff6fdbea",
   "metadata": {},
   "source": [
    "or a CMAC (the blocksize (in bytes) must be 1,2,4,8 or 16)"
   ]
  },
  {
   "cell_type": "code",
   "execution_count": 162,
   "id": "f3002318-106a-4054-8554-bcce5776d1d6",
   "metadata": {},
   "outputs": [
    {
     "data": {
      "text/plain": [
       "b'\\xc2\\xde\\xcb\\xa9'"
      ]
     },
     "execution_count": 162,
     "metadata": {},
     "output_type": "execute_result"
    }
   ],
   "source": [
    "ceasar.mac_cmac(text)"
   ]
  },
  {
   "cell_type": "markdown",
   "id": "30a52407-19cb-4185-b3f2-9922d19a5256",
   "metadata": {},
   "source": [
    "Of course you can use the classes for DES or AES from above."
   ]
  },
  {
   "cell_type": "code",
   "execution_count": 163,
   "id": "b704becf-6e8b-4f03-a462-33232c525d4f",
   "metadata": {},
   "outputs": [],
   "source": [
    "from kryptools import AESCipher, BlockCipher\n",
    "\n",
    "\n",
    "class AESBlockCipher(BlockCipher):\n",
    "    blocksize = 16\n",
    "\n",
    "    def set_key(self, key: bytes):\n",
    "        if not isinstance(key, bytes) or len(key) != self.__class__.blocksize:\n",
    "            raise ValueError(f\"Key must be {self.__class__.blocksize} bytes.\")\n",
    "        self.key = key\n",
    "        self.cipher = AESCipher(key)"
   ]
  },
  {
   "cell_type": "markdown",
   "id": "0cbf3275-be76-46a5-afa4-84c643b71157",
   "metadata": {},
   "source": [
    "For example you can use Galois counter mode with associated authenticated data:"
   ]
  },
  {
   "cell_type": "code",
   "execution_count": 164,
   "id": "26dbf46e-4dfd-4190-8757-88addeb713ed",
   "metadata": {},
   "outputs": [
    {
     "data": {
      "text/plain": [
       "b'\\xc4\\x18\\xf1&\\x1e\\xc9h\\x19\\xaa\\xe0]\\xedv\\x85r\\xbb\\xadIx\\xe0P$E\\x02\\x07\\xa1\\x918\\x0e\\xb8\\x97CF\\xd6\\xad(\\x8fT\\x00\\x11'"
      ]
     },
     "execution_count": 164,
     "metadata": {},
     "output_type": "execute_result"
    }
   ],
   "source": [
    "key = bytes.fromhex(\"36f18357be4dbd77f050515c73fcf9f2\")\n",
    "text = b\"Test message\"\n",
    "aad = b\"ab\"\n",
    "\n",
    "aes = AESBlockCipher(key)\n",
    "ctext = aes.encrypt_gcm(text, aad=aad)\n",
    "assert aes.decrypt_gcm(ctext, aad=aad) == text\n",
    "ctext"
   ]
  },
  {
   "cell_type": "markdown",
   "id": "a30d7d98-3f87-4ea4-ba26-4a85e748eae4",
   "metadata": {},
   "source": [
    "## Hash Functions"
   ]
  },
  {
   "cell_type": "markdown",
   "id": "2b4f0bac-7da6-413c-b102-952391e27152",
   "metadata": {},
   "source": [
    "First of all there is [SHA-1](https://en.wikipedia.org/wiki/SHA-1)"
   ]
  },
  {
   "cell_type": "code",
   "execution_count": 165,
   "id": "31199aeb-e44c-4303-aa41-201db74a553d",
   "metadata": {},
   "outputs": [
    {
     "data": {
      "text/plain": [
       "'a9993e364706816aba3e25717850c26c9cd0d89d'"
      ]
     },
     "execution_count": 165,
     "metadata": {},
     "output_type": "execute_result"
    }
   ],
   "source": [
    "from kryptools import SHA1\n",
    "\n",
    "sha1 = SHA1()\n",
    "sha1(b'abc').hex()"
   ]
  },
  {
   "cell_type": "markdown",
   "id": "b51a8284-30a8-48d4-9dad-71c647057a23",
   "metadata": {},
   "source": [
    "A simple prefix HMAC based on SHA-1 can be computed as follows:"
   ]
  },
  {
   "cell_type": "code",
   "execution_count": 166,
   "id": "4f1366ac-c061-4677-94c6-2ba836b36d47",
   "metadata": {},
   "outputs": [
    {
     "data": {
      "text/plain": [
       "'a67d80beac0c46e6870c869881b519c7caaace56'"
      ]
     },
     "execution_count": 166,
     "metadata": {},
     "output_type": "execute_result"
    }
   ],
   "source": [
    "message = b'An authemtic message.'\n",
    "key = b'12345678'\n",
    "\n",
    "sig = sha1(key + message).hex()\n",
    "sig"
   ]
  },
  {
   "cell_type": "markdown",
   "id": "3794cdfe-1102-4ebc-87ec-02168fd401e0",
   "metadata": {},
   "source": [
    "Since SHA1 is vulnerable to a length extension attack, based on the HMAC of a message and the lenght of the key a valid HMAC for an extended message can be created:"
   ]
  },
  {
   "cell_type": "code",
   "execution_count": 167,
   "id": "8323ec01-eaa7-4cbd-b1a6-1d7e4a7f89f7",
   "metadata": {},
   "outputs": [
    {
     "data": {
      "text/plain": [
       "True"
      ]
     },
     "execution_count": 167,
     "metadata": {},
     "output_type": "execute_result"
    }
   ],
   "source": [
    "key_length = len(key)\n",
    "message2 = b'An extension'\n",
    "\n",
    "\n",
    "forged_message=sha1.pad(message, key_length) #  add the padding to the original message\n",
    "l = len(forged_message)+key_length  # length (including key and padding) of the original message\n",
    "h=tuple(int(sig[i*8:(i+1)*8],16) for i in range(5))  # status at the end of the original message\n",
    "\n",
    "forged_message = forged_message + message2 # now we can add whatever we want\n",
    "\n",
    "sha1(message2, h, l) == sha1(key + forged_message) # and still get a valid HAMC"
   ]
  },
  {
   "cell_type": "markdown",
   "id": "d4d0e198-6ff9-4729-af94-49ca8d04427b",
   "metadata": {},
   "source": [
    "Moroever, there is also [Keccak](https://keccak.team/). The class gives access to the individual operations. For example, here is the result of the permutation function $f$ applied to the initial state:"
   ]
  },
  {
   "cell_type": "code",
   "execution_count": 168,
   "id": "0f0b6f77-71bc-49f0-a605-63b3e8d5d82d",
   "metadata": {},
   "outputs": [
    {
     "data": {
      "text/plain": [
       "f1258f7940e1dde7 84d5ccf933c0478a d598261ea65aa9ee bd1547306f80494d 8b284e056253d057\n",
       "ff97a42d7f8e6fd4 90fee5a0a44647c4 8c5bda0cd6192e76 ad30a6f71b19059c 30935ab7d08ffc64\n",
       "eb5aa93f2317d635 a9a6e6260d712103 81a57c16dbcf555f 43b831cd0347c826 01f22f1a11a5569f\n",
       "05e5635a21d9ae61 64befef28cc970f2 613670957bc46611 b87c5a554fd00ecb 8c3ee88a1ccf32c8\n",
       "940c7922ae3a2614 1841f924a2c509e4 16f53526e70465c2 75f644e97f30a13b eaf1ff7b5ceca249"
      ]
     },
     "execution_count": 168,
     "metadata": {},
     "output_type": "execute_result"
    }
   ],
   "source": [
    "from kryptools import Keccak\n",
    "\n",
    "keccak = Keccak(rate = 1600 - 2*256)\n",
    "keccak.f()\n",
    "keccak"
   ]
  },
  {
   "cell_type": "markdown",
   "id": "601a00a8-90ee-49a5-8019-509918513269",
   "metadata": {},
   "source": [
    "You can `.reset()` the state and absorbe a message using the `.absorb()` method. Note, that messages are bufferd until a full block is available. Once you start squeezing, the remaining buffer gets padded and absorbed."
   ]
  },
  {
   "cell_type": "code",
   "execution_count": 169,
   "id": "a0cfe57d-80c2-403d-91ba-1c8cabcac284",
   "metadata": {},
   "outputs": [
    {
     "data": {
      "text/plain": [
       "b'N\\x03ez\\xeaE\\xa9O\\xc7\\xd4'"
      ]
     },
     "execution_count": 169,
     "metadata": {},
     "output_type": "execute_result"
    }
   ],
   "source": [
    "keccak.reset()\n",
    "keccak.absorb(b'abc')\n",
    "keccak.squeeze(10)"
   ]
  },
  {
   "cell_type": "markdown",
   "id": "eaac84df-b93a-4645-b364-1dd3d4681017",
   "metadata": {},
   "source": [
    "In addition, there is [SHA-3](https://en.wikipedia.org/wiki/SHA-3). To compute SHA-3-256 of a given string use:"
   ]
  },
  {
   "cell_type": "code",
   "execution_count": 170,
   "id": "52f10bd7-97f7-41dd-b968-2efeac22db51",
   "metadata": {},
   "outputs": [
    {
     "data": {
      "text/plain": [
       "'3a985da74fe225b2045c172d6bd390bd855f086e3e9d525b46bfe24511431532'"
      ]
     },
     "execution_count": 170,
     "metadata": {},
     "output_type": "execute_result"
    }
   ],
   "source": [
    "from kryptools import SHA3\n",
    "\n",
    "sha3 = SHA3(256) # SHA-3-256\n",
    "sha3(\"abc\").hex()"
   ]
  },
  {
   "cell_type": "markdown",
   "id": "d1e7dfe0-fcd3-44c1-a7ed-2ab3b4f63e5e",
   "metadata": {},
   "source": [
    "Or you can use SHAKE to create pseudorandom bytes. To absorb a given string and extract a given number of bytes use:"
   ]
  },
  {
   "cell_type": "code",
   "execution_count": 171,
   "id": "b68a125b-21f2-418c-a868-8327cce74a32",
   "metadata": {},
   "outputs": [
    {
     "data": {
      "text/plain": [
       "b'O:dn&\\xb2i>'"
      ]
     },
     "execution_count": 171,
     "metadata": {},
     "output_type": "execute_result"
    }
   ],
   "source": [
    "from kryptools import SHAKE\n",
    "\n",
    "shake = SHAKE(b'secret', n = 128)  # SHAKE-128\n",
    "shake(8)"
   ]
  },
  {
   "cell_type": "markdown",
   "id": "909aff6c-f68f-4600-8ddf-95669436a596",
   "metadata": {},
   "source": [
    "You can extract furhter bytes by making further calls."
   ]
  }
 ],
 "metadata": {
  "kernelspec": {
   "display_name": "Python 3 (ipykernel)",
   "language": "python",
   "name": "python3"
  },
  "language_info": {
   "codemirror_mode": {
    "name": "ipython",
    "version": 3
   },
   "file_extension": ".py",
   "mimetype": "text/x-python",
   "name": "python",
   "nbconvert_exporter": "python",
   "pygments_lexer": "ipython3",
   "version": "3.12.10"
  }
 },
 "nbformat": 4,
 "nbformat_minor": 5
}
